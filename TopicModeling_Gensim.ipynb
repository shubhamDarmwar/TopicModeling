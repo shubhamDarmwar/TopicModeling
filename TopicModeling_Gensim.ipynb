{
 "cells": [
  {
   "cell_type": "markdown",
   "metadata": {},
   "source": [
    "# News Topic Modeling \n",
    "Cluster News"
   ]
  },
  {
   "cell_type": "markdown",
   "metadata": {},
   "source": [
    "https://www.machinelearningplus.com/nlp/topic-modeling-gensim-python/"
   ]
  },
  {
   "cell_type": "markdown",
   "metadata": {},
   "source": [
    "### Import framworks"
   ]
  },
  {
   "cell_type": "code",
   "execution_count": 33,
   "metadata": {},
   "outputs": [],
   "source": [
    "import ssl\n",
    "ssl._create_default_https_context = ssl._create_unverified_context\n",
    "\n",
    "from pprint import  pprint\n",
    "import numpy as np\n",
    "import pandas as pd\n",
    "import re\n",
    "\n",
    "import gensim\n",
    "import gensim.corpora as corpora\n",
    "from gensim.utils import simple_preprocess\n",
    "from gensim.models import CoherenceModel\n",
    "\n",
    "import spacy\n",
    "\n",
    "import pyLDAvis\n",
    "import pyLDAvis.gensim\n"
   ]
  },
  {
   "cell_type": "markdown",
   "metadata": {},
   "source": [
    "### Prpare stopwords"
   ]
  },
  {
   "cell_type": "code",
   "execution_count": 2,
   "metadata": {},
   "outputs": [],
   "source": [
    "from nltk.corpus import stopwords\n",
    "stop_words = stopwords.words('english')\n",
    "stop_words.extend(['from', 'subject', 're', 'edu', 'use'])"
   ]
  },
  {
   "cell_type": "markdown",
   "metadata": {},
   "source": [
    "### Read data"
   ]
  },
  {
   "cell_type": "code",
   "execution_count": 3,
   "metadata": {},
   "outputs": [
    {
     "data": {
      "text/html": [
       "<div>\n",
       "<style scoped>\n",
       "    .dataframe tbody tr th:only-of-type {\n",
       "        vertical-align: middle;\n",
       "    }\n",
       "\n",
       "    .dataframe tbody tr th {\n",
       "        vertical-align: top;\n",
       "    }\n",
       "\n",
       "    .dataframe thead th {\n",
       "        text-align: right;\n",
       "    }\n",
       "</style>\n",
       "<table border=\"1\" class=\"dataframe\">\n",
       "  <thead>\n",
       "    <tr style=\"text-align: right;\">\n",
       "      <th></th>\n",
       "      <th>content</th>\n",
       "      <th>target</th>\n",
       "      <th>target_names</th>\n",
       "    </tr>\n",
       "  </thead>\n",
       "  <tbody>\n",
       "    <tr>\n",
       "      <td>0</td>\n",
       "      <td>From: lerxst@wam.umd.edu (where's my thing)\\nS...</td>\n",
       "      <td>7</td>\n",
       "      <td>rec.autos</td>\n",
       "    </tr>\n",
       "    <tr>\n",
       "      <td>1</td>\n",
       "      <td>From: guykuo@carson.u.washington.edu (Guy Kuo)...</td>\n",
       "      <td>4</td>\n",
       "      <td>comp.sys.mac.hardware</td>\n",
       "    </tr>\n",
       "    <tr>\n",
       "      <td>2</td>\n",
       "      <td>From: twillis@ec.ecn.purdue.edu (Thomas E Will...</td>\n",
       "      <td>4</td>\n",
       "      <td>comp.sys.mac.hardware</td>\n",
       "    </tr>\n",
       "    <tr>\n",
       "      <td>3</td>\n",
       "      <td>From: jgreen@amber (Joe Green)\\nSubject: Re: W...</td>\n",
       "      <td>1</td>\n",
       "      <td>comp.graphics</td>\n",
       "    </tr>\n",
       "    <tr>\n",
       "      <td>4</td>\n",
       "      <td>From: jcm@head-cfa.harvard.edu (Jonathan McDow...</td>\n",
       "      <td>14</td>\n",
       "      <td>sci.space</td>\n",
       "    </tr>\n",
       "  </tbody>\n",
       "</table>\n",
       "</div>"
      ],
      "text/plain": [
       "                                             content  target  \\\n",
       "0  From: lerxst@wam.umd.edu (where's my thing)\\nS...       7   \n",
       "1  From: guykuo@carson.u.washington.edu (Guy Kuo)...       4   \n",
       "2  From: twillis@ec.ecn.purdue.edu (Thomas E Will...       4   \n",
       "3  From: jgreen@amber (Joe Green)\\nSubject: Re: W...       1   \n",
       "4  From: jcm@head-cfa.harvard.edu (Jonathan McDow...      14   \n",
       "\n",
       "            target_names  \n",
       "0              rec.autos  \n",
       "1  comp.sys.mac.hardware  \n",
       "2  comp.sys.mac.hardware  \n",
       "3          comp.graphics  \n",
       "4              sci.space  "
      ]
     },
     "execution_count": 3,
     "metadata": {},
     "output_type": "execute_result"
    }
   ],
   "source": [
    "df = pd.read_json('https://raw.githubusercontent.com/selva86/datasets/master/newsgroups.json')\n",
    "df.head()"
   ]
  },
  {
   "cell_type": "code",
   "execution_count": 4,
   "metadata": {},
   "outputs": [
    {
     "name": "stdout",
     "output_type": "stream",
     "text": [
      "['rec.autos' 'comp.sys.mac.hardware' 'comp.graphics' 'sci.space'\n",
      " 'talk.politics.guns' 'sci.med' 'comp.sys.ibm.pc.hardware'\n",
      " 'comp.os.ms-windows.misc' 'rec.motorcycles' 'talk.religion.misc'\n",
      " 'misc.forsale' 'alt.atheism' 'sci.electronics' 'comp.windows.x'\n",
      " 'rec.sport.hockey' 'rec.sport.baseball' 'soc.religion.christian'\n",
      " 'talk.politics.mideast' 'talk.politics.misc' 'sci.crypt']\n"
     ]
    }
   ],
   "source": [
    "print(df.target_names.unique())"
   ]
  },
  {
   "cell_type": "markdown",
   "metadata": {},
   "source": [
    "### Cleaning : Remove emails and new line characters "
   ]
  },
  {
   "cell_type": "code",
   "execution_count": 5,
   "metadata": {},
   "outputs": [
    {
     "name": "stdout",
     "output_type": "stream",
     "text": [
      "['From: (wheres my thing) Subject: WHAT car is this!? Nntp-Posting-Host: '\n",
      " 'rac3.wam.umd.edu Organization: University of Maryland, College Park Lines: '\n",
      " '15 I was wondering if anyone out there could enlighten me on this car I saw '\n",
      " 'the other day. It was a 2-door sports car, looked to be from the late 60s/ '\n",
      " 'early 70s. It was called a Bricklin. The doors were really small. In '\n",
      " 'addition, the front bumper was separate from the rest of the body. This is '\n",
      " 'all I know. If anyone can tellme a model name, engine specs, years of '\n",
      " 'production, where this car is made, history, or whatever info you have on '\n",
      " 'this funky looking car, please e-mail. Thanks, - IL ---- brought to you by '\n",
      " 'your neighborhood Lerxst ---- ']\n"
     ]
    }
   ],
   "source": [
    "data = df.content.values.tolist()\n",
    "data = [re.sub('\\S*@\\S*\\s?', '', sent) for sent in data] #email\n",
    "data = [re.sub('\\s+', ' ', sent) for sent in data] # new line character\n",
    "data = [re.sub(\"\\'\", '', sent) for sent in data]\n",
    "pprint(data[:1])"
   ]
  },
  {
   "cell_type": "markdown",
   "metadata": {},
   "source": [
    "### Tokenize Words and Clean-up text\n",
    "Tokanize each sentense in to list of words, removing punctuation and unnecessory characters altogether. <br>\n",
    "Gensim's simple_preprocess() is the great option. set deacc=True to remove punctuations. "
   ]
  },
  {
   "cell_type": "code",
   "execution_count": 6,
   "metadata": {},
   "outputs": [
    {
     "name": "stdout",
     "output_type": "stream",
     "text": [
      "[['from', 'wheres', 'my', 'thing', 'subject', 'what', 'car', 'is', 'this', 'nntp', 'posting', 'host', 'rac', 'wam', 'umd', 'edu', 'organization', 'university', 'of', 'maryland', 'college', 'park', 'lines', 'was', 'wondering', 'if', 'anyone', 'out', 'there', 'could', 'enlighten', 'me', 'on', 'this', 'car', 'saw', 'the', 'other', 'day', 'it', 'was', 'door', 'sports', 'car', 'looked', 'to', 'be', 'from', 'the', 'late', 'early', 'it', 'was', 'called', 'bricklin', 'the', 'doors', 'were', 'really', 'small', 'in', 'addition', 'the', 'front', 'bumper', 'was', 'separate', 'from', 'the', 'rest', 'of', 'the', 'body', 'this', 'is', 'all', 'know', 'if', 'anyone', 'can', 'tellme', 'model', 'name', 'engine', 'specs', 'years', 'of', 'production', 'where', 'this', 'car', 'is', 'made', 'history', 'or', 'whatever', 'info', 'you', 'have', 'on', 'this', 'funky', 'looking', 'car', 'please', 'mail', 'thanks', 'il', 'brought', 'to', 'you', 'by', 'your', 'neighborhood', 'lerxst']]\n"
     ]
    }
   ],
   "source": [
    "def sent_to_words(sentences):\n",
    "    for sentence in sentences:\n",
    "        yield(gensim.utils.simple_preprocess(sentence, deacc=True))\n",
    "        \n",
    "data_words = list(sent_to_words(data))\n",
    "print(data_words[:1])"
   ]
  },
  {
   "cell_type": "markdown",
   "metadata": {},
   "source": [
    "## Creating Bigram and Trigram models"
   ]
  },
  {
   "cell_type": "code",
   "execution_count": 7,
   "metadata": {},
   "outputs": [],
   "source": [
    "bigram = gensim.models.Phrases(data_words, min_count=5, threshold=100) # More threshold fewer phrases\n",
    "trigram = gensim.models.Phrases(bigram[data_words], threshold=100)"
   ]
  },
  {
   "cell_type": "code",
   "execution_count": 8,
   "metadata": {},
   "outputs": [
    {
     "data": {
      "text/plain": [
       "['from',\n",
       " 'wheres',\n",
       " 'my',\n",
       " 'thing',\n",
       " 'subject',\n",
       " 'what',\n",
       " 'car',\n",
       " 'is',\n",
       " 'this',\n",
       " 'nntp_posting_host',\n",
       " 'rac_wam_umd_edu',\n",
       " 'organization',\n",
       " 'university',\n",
       " 'of',\n",
       " 'maryland_college_park',\n",
       " 'lines',\n",
       " 'was',\n",
       " 'wondering',\n",
       " 'if',\n",
       " 'anyone',\n",
       " 'out',\n",
       " 'there',\n",
       " 'could',\n",
       " 'enlighten',\n",
       " 'me',\n",
       " 'on',\n",
       " 'this',\n",
       " 'car',\n",
       " 'saw',\n",
       " 'the',\n",
       " 'other',\n",
       " 'day',\n",
       " 'it',\n",
       " 'was',\n",
       " 'door',\n",
       " 'sports',\n",
       " 'car',\n",
       " 'looked',\n",
       " 'to',\n",
       " 'be',\n",
       " 'from',\n",
       " 'the',\n",
       " 'late',\n",
       " 'early',\n",
       " 'it',\n",
       " 'was',\n",
       " 'called',\n",
       " 'bricklin',\n",
       " 'the',\n",
       " 'doors',\n",
       " 'were',\n",
       " 'really',\n",
       " 'small',\n",
       " 'in',\n",
       " 'addition',\n",
       " 'the',\n",
       " 'front_bumper',\n",
       " 'was',\n",
       " 'separate',\n",
       " 'from',\n",
       " 'the',\n",
       " 'rest',\n",
       " 'of',\n",
       " 'the',\n",
       " 'body',\n",
       " 'this',\n",
       " 'is',\n",
       " 'all',\n",
       " 'know',\n",
       " 'if',\n",
       " 'anyone',\n",
       " 'can',\n",
       " 'tellme',\n",
       " 'model',\n",
       " 'name',\n",
       " 'engine',\n",
       " 'specs',\n",
       " 'years',\n",
       " 'of',\n",
       " 'production',\n",
       " 'where',\n",
       " 'this',\n",
       " 'car',\n",
       " 'is',\n",
       " 'made',\n",
       " 'history',\n",
       " 'or',\n",
       " 'whatever',\n",
       " 'info',\n",
       " 'you',\n",
       " 'have',\n",
       " 'on',\n",
       " 'this',\n",
       " 'funky',\n",
       " 'looking',\n",
       " 'car',\n",
       " 'please',\n",
       " 'mail',\n",
       " 'thanks',\n",
       " 'il',\n",
       " 'brought',\n",
       " 'to',\n",
       " 'you',\n",
       " 'by',\n",
       " 'your',\n",
       " 'neighborhood',\n",
       " 'lerxst']"
      ]
     },
     "execution_count": 8,
     "metadata": {},
     "output_type": "execute_result"
    }
   ],
   "source": [
    "trigram[bigram[data_words[0]]]"
   ]
  },
  {
   "cell_type": "code",
   "execution_count": 9,
   "metadata": {},
   "outputs": [
    {
     "data": {
      "text/plain": [
       "['from',\n",
       " 'wheres',\n",
       " 'my',\n",
       " 'thing',\n",
       " 'subject',\n",
       " 'what',\n",
       " 'car',\n",
       " 'is',\n",
       " 'this',\n",
       " 'nntp_posting',\n",
       " 'host',\n",
       " 'rac_wam',\n",
       " 'umd_edu',\n",
       " 'organization',\n",
       " 'university',\n",
       " 'of',\n",
       " 'maryland_college',\n",
       " 'park',\n",
       " 'lines',\n",
       " 'was',\n",
       " 'wondering',\n",
       " 'if',\n",
       " 'anyone',\n",
       " 'out',\n",
       " 'there',\n",
       " 'could',\n",
       " 'enlighten',\n",
       " 'me',\n",
       " 'on',\n",
       " 'this',\n",
       " 'car',\n",
       " 'saw',\n",
       " 'the',\n",
       " 'other',\n",
       " 'day',\n",
       " 'it',\n",
       " 'was',\n",
       " 'door',\n",
       " 'sports',\n",
       " 'car',\n",
       " 'looked',\n",
       " 'to',\n",
       " 'be',\n",
       " 'from',\n",
       " 'the',\n",
       " 'late',\n",
       " 'early',\n",
       " 'it',\n",
       " 'was',\n",
       " 'called',\n",
       " 'bricklin',\n",
       " 'the',\n",
       " 'doors',\n",
       " 'were',\n",
       " 'really',\n",
       " 'small',\n",
       " 'in',\n",
       " 'addition',\n",
       " 'the',\n",
       " 'front_bumper',\n",
       " 'was',\n",
       " 'separate',\n",
       " 'from',\n",
       " 'the',\n",
       " 'rest',\n",
       " 'of',\n",
       " 'the',\n",
       " 'body',\n",
       " 'this',\n",
       " 'is',\n",
       " 'all',\n",
       " 'know',\n",
       " 'if',\n",
       " 'anyone',\n",
       " 'can',\n",
       " 'tellme',\n",
       " 'model',\n",
       " 'name',\n",
       " 'engine',\n",
       " 'specs',\n",
       " 'years',\n",
       " 'of',\n",
       " 'production',\n",
       " 'where',\n",
       " 'this',\n",
       " 'car',\n",
       " 'is',\n",
       " 'made',\n",
       " 'history',\n",
       " 'or',\n",
       " 'whatever',\n",
       " 'info',\n",
       " 'you',\n",
       " 'have',\n",
       " 'on',\n",
       " 'this',\n",
       " 'funky',\n",
       " 'looking',\n",
       " 'car',\n",
       " 'please',\n",
       " 'mail',\n",
       " 'thanks',\n",
       " 'il',\n",
       " 'brought',\n",
       " 'to',\n",
       " 'you',\n",
       " 'by',\n",
       " 'your',\n",
       " 'neighborhood',\n",
       " 'lerxst']"
      ]
     },
     "execution_count": 9,
     "metadata": {},
     "output_type": "execute_result"
    }
   ],
   "source": [
    "bigram[data_words[0]]"
   ]
  },
  {
   "cell_type": "code",
   "execution_count": 10,
   "metadata": {},
   "outputs": [],
   "source": [
    "bigram_mod = gensim.models.phrases.Phraser(bigram)\n",
    "trigram_mod = gensim.models.phrases.Phraser(trigram)"
   ]
  },
  {
   "cell_type": "code",
   "execution_count": 11,
   "metadata": {},
   "outputs": [
    {
     "name": "stdout",
     "output_type": "stream",
     "text": [
      "['from', 'wheres', 'my', 'thing', 'subject', 'what', 'car', 'is', 'this', 'nntp_posting_host', 'rac_wam_umd_edu', 'organization', 'university', 'of', 'maryland_college_park', 'lines', 'was', 'wondering', 'if', 'anyone', 'out', 'there', 'could', 'enlighten', 'me', 'on', 'this', 'car', 'saw', 'the', 'other', 'day', 'it', 'was', 'door', 'sports', 'car', 'looked', 'to', 'be', 'from', 'the', 'late', 'early', 'it', 'was', 'called', 'bricklin', 'the', 'doors', 'were', 'really', 'small', 'in', 'addition', 'the', 'front_bumper', 'was', 'separate', 'from', 'the', 'rest', 'of', 'the', 'body', 'this', 'is', 'all', 'know', 'if', 'anyone', 'can', 'tellme', 'model', 'name', 'engine', 'specs', 'years', 'of', 'production', 'where', 'this', 'car', 'is', 'made', 'history', 'or', 'whatever', 'info', 'you', 'have', 'on', 'this', 'funky', 'looking', 'car', 'please', 'mail', 'thanks', 'il', 'brought', 'to', 'you', 'by', 'your', 'neighborhood', 'lerxst']\n"
     ]
    }
   ],
   "source": [
    "# See trigram example\n",
    "print(trigram_mod[bigram_mod[data_words[0]]])"
   ]
  },
  {
   "cell_type": "code",
   "execution_count": 12,
   "metadata": {},
   "outputs": [],
   "source": [
    "# Define functions for stopwords, bigrams, trigrams and lemmatization\n",
    "def remove_stopwords(texts):\n",
    "    return [[word for word in simple_preprocess(str(doc)) if word not in stop_words] for doc in texts]\n",
    "\n",
    "def make_bigrams(texts):\n",
    "    return [bigram_mod[doc] for doc in texts]\n",
    "\n",
    "def make_trigrams(texts):\n",
    "    return [trigram_mod[bigram_mod[doc]] for doc in texts]\n",
    "\n",
    "def lemmatization(texts, allowed_postags=['NOUN', 'ADJ', 'VERB', 'ADV']):\n",
    "    \"\"\"https://spacy.io/api/annotation\"\"\"\n",
    "    texts_out = []\n",
    "    for sent in texts:\n",
    "        doc = nlp(\" \".join(sent)) \n",
    "        texts_out.append([token.lemma_ for token in doc if token.pos_ in allowed_postags])\n",
    "    return texts_out"
   ]
  },
  {
   "cell_type": "code",
   "execution_count": 13,
   "metadata": {},
   "outputs": [],
   "source": [
    "data_words_nostops = remove_stopwords(data_words)\n",
    "\n",
    "data_words_bigrams = make_bigrams(data_words_nostops)\n",
    "\n",
    "nlp = spacy.load('en_core_web_sm', disable=['parser', 'ner'])\n",
    "\n",
    "data_lemmatized = lemmatization(data_words_bigrams)\n"
   ]
  },
  {
   "cell_type": "code",
   "execution_count": 14,
   "metadata": {},
   "outputs": [
    {
     "name": "stdout",
     "output_type": "stream",
     "text": [
      "[['where', 'thing', 'car', 'nntp_poste', 'host', 'park', 'line', 'wonder', 'could', 'enlighten', 'car', 'see', 'day', 'door', 'sport', 'car', 'look', 'late', 'early', 'call', 'bricklin', 'door', 'really', 'small', 'addition', 'separate', 'rest', 'body', 'know', 'tellme', 'model', 'name', 'engine', 'year', 'production', 'car', 'make', 'history', 'info', 'funky', 'look', 'car', 'mail', 'thank', 'bring', 'neighborhood', 'lerxst']]\n"
     ]
    }
   ],
   "source": [
    "print(data_lemmatized[:1])"
   ]
  },
  {
   "cell_type": "code",
   "execution_count": 15,
   "metadata": {
    "collapsed": true
   },
   "outputs": [
    {
     "data": {
      "text/plain": [
       "[[(0, 1),\n",
       "  (1, 1),\n",
       "  (2, 1),\n",
       "  (3, 1),\n",
       "  (4, 1),\n",
       "  (5, 5),\n",
       "  (6, 1),\n",
       "  (7, 1),\n",
       "  (8, 2),\n",
       "  (9, 1),\n",
       "  (10, 1),\n",
       "  (11, 1),\n",
       "  (12, 1),\n",
       "  (13, 1),\n",
       "  (14, 1),\n",
       "  (15, 1),\n",
       "  (16, 1),\n",
       "  (17, 1),\n",
       "  (18, 1),\n",
       "  (19, 1),\n",
       "  (20, 2),\n",
       "  (21, 1),\n",
       "  (22, 1),\n",
       "  (23, 1),\n",
       "  (24, 1),\n",
       "  (25, 1),\n",
       "  (26, 1),\n",
       "  (27, 1),\n",
       "  (28, 1),\n",
       "  (29, 1),\n",
       "  (30, 1),\n",
       "  (31, 1),\n",
       "  (32, 1),\n",
       "  (33, 1),\n",
       "  (34, 1),\n",
       "  (35, 1),\n",
       "  (36, 1),\n",
       "  (37, 1),\n",
       "  (38, 1),\n",
       "  (39, 1),\n",
       "  (40, 1)]]"
      ]
     },
     "execution_count": 15,
     "metadata": {},
     "output_type": "execute_result"
    }
   ],
   "source": [
    "id2word = corpora.Dictionary(data_lemmatized)\n",
    "\n",
    "corpus = [id2word.doc2bow(text) for text in data_lemmatized]\n",
    "\n",
    "corpus[:1]"
   ]
  },
  {
   "cell_type": "code",
   "execution_count": 16,
   "metadata": {},
   "outputs": [
    {
     "data": {
      "text/plain": [
       "'addition'"
      ]
     },
     "execution_count": 16,
     "metadata": {},
     "output_type": "execute_result"
    }
   ],
   "source": [
    "id2word[0]"
   ]
  },
  {
   "cell_type": "markdown",
   "metadata": {},
   "source": [
    "## Model\n",
    "Apart from that, alpha and eta are hyperparameters that affect sparsity of the topics. According to the Gensim docs, both defaults to 1.0/num_topics prior.\n",
    "\n",
    "chunksize is the number of documents to be used in each training chunk. update_every determines how often the model parameters should be updated and passes is the total number of training passes."
   ]
  },
  {
   "cell_type": "code",
   "execution_count": 24,
   "metadata": {},
   "outputs": [],
   "source": [
    "lda_model = gensim.models.ldamodel.LdaModel(corpus=corpus,\n",
    "                                           id2word=id2word,\n",
    "                                            num_topics=20,\n",
    "                                           random_state=0,\n",
    "                                           update_every=1,\n",
    "                                           chunksize=100,\n",
    "                                           passes=10,\n",
    "                                           alpha='auto',\n",
    "                                           per_word_topics=True)"
   ]
  },
  {
   "cell_type": "code",
   "execution_count": 25,
   "metadata": {
    "scrolled": true
   },
   "outputs": [
    {
     "data": {
      "text/plain": [
       "[(0,\n",
       "  '0.170*\"encryption\" + 0.080*\"animal\" + 0.049*\"privacy\" + 0.027*\"wiretap\" + 0.026*\"label\" + 0.022*\"fish\" + 0.008*\"inherent\" + 0.005*\"ms_window\" + 0.004*\"negligent\" + 0.003*\"efficiently\"'),\n",
       " (1,\n",
       "  '0.166*\"player\" + 0.108*\"season\" + 0.097*\"fan\" + 0.077*\"trade\" + 0.032*\"lose\" + 0.028*\"penguin\" + 0.027*\"implementation\" + 0.022*\"leafs\" + 0.016*\"captain\" + 0.015*\"flyer\"'),\n",
       " (2,\n",
       "  '0.031*\"report\" + 0.026*\"physical\" + 0.024*\"result\" + 0.023*\"system\" + 0.021*\"purpose\" + 0.018*\"effect\" + 0.018*\"increase\" + 0.018*\"study\" + 0.017*\"produce\" + 0.017*\"accept\"'),\n",
       " (3,\n",
       "  '0.188*\"ax\" + 0.159*\"max\" + 0.053*\"village\" + 0.038*\"greek\" + 0.037*\"turkish\" + 0.028*\"armenian\" + 0.018*\"inhabitant\" + 0.016*\"closed\" + 0.014*\"genocide\" + 0.012*\"electrical\"'),\n",
       " (4,\n",
       "  '0.072*\"file\" + 0.059*\"window\" + 0.056*\"program\" + 0.034*\"image\" + 0.030*\"entry\" + 0.030*\"version\" + 0.029*\"color\" + 0.027*\"application\" + 0.023*\"display\" + 0.022*\"set\"'),\n",
       " (5,\n",
       "  '0.117*\"motif\" + 0.048*\"own\" + 0.033*\"tip\" + 0.027*\"giant\" + 0.015*\"shaft\" + 0.000*\"accelerator\" + 0.000*\"commercial\" + 0.000*\"translation\" + 0.000*\"shift\" + 0.000*\"modifier\"'),\n",
       " (6,\n",
       "  '0.067*\"chip\" + 0.057*\"bit\" + 0.039*\"memory\" + 0.038*\"disk\" + 0.031*\"device\" + 0.030*\"speed\" + 0.027*\"bus\" + 0.026*\"scsi\" + 0.025*\"family\" + 0.025*\"cpu\"'),\n",
       " (7,\n",
       "  '0.039*\"people\" + 0.026*\"say\" + 0.021*\"reason\" + 0.020*\"evidence\" + 0.016*\"believe\" + 0.015*\"fact\" + 0.014*\"claim\" + 0.013*\"man\" + 0.012*\"sense\" + 0.011*\"many\"'),\n",
       " (8,\n",
       "  '0.080*\"space\" + 0.035*\"press\" + 0.029*\"launch\" + 0.025*\"cool\" + 0.024*\"earth\" + 0.022*\"orbit\" + 0.022*\"mission\" + 0.020*\"satellite\" + 0.019*\"plane\" + 0.017*\"cycle\"'),\n",
       " (9,\n",
       "  '0.059*\"patient\" + 0.057*\"die\" + 0.040*\"reality\" + 0.038*\"university\" + 0.037*\"sorry\" + 0.030*\"choice\" + 0.030*\"route\" + 0.028*\"treat\" + 0.028*\"treatment\" + 0.027*\"disease\"'),\n",
       " (10,\n",
       "  '0.024*\"number\" + 0.019*\"may\" + 0.018*\"also\" + 0.018*\"information\" + 0.017*\"include\" + 0.016*\"new\" + 0.014*\"support\" + 0.013*\"source\" + 0.013*\"list\" + 0.012*\"provide\"'),\n",
       " (11,\n",
       "  '0.039*\"would\" + 0.032*\"write\" + 0.027*\"line\" + 0.021*\"article\" + 0.020*\"know\" + 0.018*\"be\" + 0.018*\"think\" + 0.017*\"go\" + 0.016*\"make\" + 0.015*\"get\"'),\n",
       " (12,\n",
       "  '0.049*\"key\" + 0.039*\"government\" + 0.027*\"gun\" + 0.027*\"public\" + 0.026*\"kill\" + 0.017*\"attack\" + 0.016*\"right\" + 0.015*\"country\" + 0.014*\"state\" + 0.013*\"war\"'),\n",
       " (13,\n",
       "  '0.049*\"line\" + 0.044*\"use\" + 0.037*\"system\" + 0.034*\"thank\" + 0.025*\"need\" + 0.024*\"mail\" + 0.022*\"host\" + 0.019*\"run\" + 0.017*\"help\" + 0.017*\"computer\"'),\n",
       " (14,\n",
       "  '0.073*\"faith\" + 0.055*\"religion\" + 0.053*\"god\" + 0.045*\"truth\" + 0.043*\"belief\" + 0.042*\"book\" + 0.033*\"science\" + 0.033*\"christian\" + 0.027*\"shall\" + 0.023*\"revelation\"'),\n",
       " (15,\n",
       "  '0.048*\"relation\" + 0.042*\"reflect\" + 0.040*\"investigate\" + 0.031*\"dare\" + 0.030*\"suck\" + 0.021*\"approximately\" + 0.011*\"intense\" + 0.006*\"radius\" + 0.004*\"hm\" + 0.002*\"golden\"'),\n",
       " (16,\n",
       "  '0.054*\"compare\" + 0.051*\"body\" + 0.049*\"black\" + 0.031*\"special\" + 0.030*\"picture\" + 0.030*\"recommend\" + 0.026*\"doctor\" + 0.026*\"possibly\" + 0.026*\"cd\" + 0.024*\"son\"'),\n",
       " (17,\n",
       "  '0.105*\"team\" + 0.096*\"game\" + 0.073*\"play\" + 0.068*\"win\" + 0.059*\"year\" + 0.029*\"score\" + 0.027*\"division\" + 0.026*\"wing\" + 0.025*\"run\" + 0.019*\"average\"'),\n",
       " (18,\n",
       "  '0.211*\"drive\" + 0.140*\"car\" + 0.068*\"driver\" + 0.038*\"engine\" + 0.036*\"notice\" + 0.027*\"external\" + 0.020*\"door\" + 0.018*\"buy\" + 0.018*\"dealer\" + 0.017*\"speed\"'),\n",
       " (19,\n",
       "  '0.037*\"problem\" + 0.018*\"will\" + 0.016*\"power\" + 0.015*\"leave\" + 0.014*\"turn\" + 0.011*\"back\" + 0.011*\"old\" + 0.010*\"time\" + 0.010*\"home\" + 0.010*\"end\"')]"
      ]
     },
     "execution_count": 25,
     "metadata": {},
     "output_type": "execute_result"
    }
   ],
   "source": [
    "lda_model.print_topics()\n"
   ]
  },
  {
   "cell_type": "code",
   "execution_count": 27,
   "metadata": {},
   "outputs": [
    {
     "name": "stdout",
     "output_type": "stream",
     "text": [
      "\n",
      "Perplexity:  -12.905476419887073\n"
     ]
    }
   ],
   "source": [
    "# Compute Perplexity\n",
    "print('\\nPerplexity: ', lda_model.log_perplexity(corpus))  # a measure of how good the model is. lower the better.\n",
    "\n",
    "coherence_model_lda = CoherenceModel(model=lda_model, texts=data_lemmatized, dictionary=id2word, coherence='u_mass')\n"
   ]
  },
  {
   "cell_type": "code",
   "execution_count": 28,
   "metadata": {},
   "outputs": [
    {
     "name": "stdout",
     "output_type": "stream",
     "text": [
      "\n",
      "Coherence Score:  -4.28608617942503\n"
     ]
    }
   ],
   "source": [
    "print('\\nCoherence Score: ', coherence_model_lda.get_coherence())"
   ]
  },
  {
   "cell_type": "code",
   "execution_count": 34,
   "metadata": {},
   "outputs": [
    {
     "name": "stderr",
     "output_type": "stream",
     "text": [
      "//anaconda3/lib/python3.7/site-packages/pyLDAvis/_prepare.py:257: FutureWarning: Sorting because non-concatenation axis is not aligned. A future version\n",
      "of pandas will change to not sort by default.\n",
      "\n",
      "To accept the future behavior, pass 'sort=False'.\n",
      "\n",
      "To retain the current behavior and silence the warning, pass 'sort=True'.\n",
      "\n",
      "  return pd.concat([default_term_info] + list(topic_dfs))\n"
     ]
    }
   ],
   "source": [
    "pyLDAvis.enable_notebook()\n",
    "\n",
    "vis = pyLDAvis.gensim.prepare(lda_model, corpus, id2word)"
   ]
  },
  {
   "cell_type": "code",
   "execution_count": 35,
   "metadata": {},
   "outputs": [
    {
     "data": {
      "text/html": [
       "\n",
       "<link rel=\"stylesheet\" type=\"text/css\" href=\"https://cdn.rawgit.com/bmabey/pyLDAvis/files/ldavis.v1.0.0.css\">\n",
       "\n",
       "\n",
       "<div id=\"ldavis_el1478359003099921673170455\"></div>\n",
       "<script type=\"text/javascript\">\n",
       "\n",
       "var ldavis_el1478359003099921673170455_data = {\"mdsDat\": {\"x\": [-0.3273373407429674, -0.28232458163281654, -0.25151511299760176, -0.21639733929676078, -0.21127928723507589, -0.11944567138052978, -0.07308909321352144, -0.0689360005809447, 0.03379315996965267, 0.015200292450258645, 0.04499531749931655, 0.14905392685135324, 0.09346474718631853, 0.12368319860063796, 0.11709549220565349, 0.10968781273562925, 0.19376419923511895, 0.21746714814919874, 0.226182940645898, 0.22593619155118116], \"y\": [-0.0516162721292144, -0.20302941480775133, -0.007994595047309145, 0.020682038295726003, 0.26931727714602566, -0.2221528178010805, 0.08597769146585571, 0.13601457248051402, 0.16992223361164893, -0.007248928827158696, -0.050633160121015215, -0.02921560282728756, -0.022836477233274387, -0.024981701267353815, -0.027490324923776274, 0.08333548752125694, -0.03132562261747275, -0.029429311326925882, -0.028637383774713695, -0.028657687816693395], \"topics\": [1, 2, 3, 4, 5, 6, 7, 8, 9, 10, 11, 12, 13, 14, 15, 16, 17, 18, 19, 20], \"cluster\": [1, 1, 1, 1, 1, 1, 1, 1, 1, 1, 1, 1, 1, 1, 1, 1, 1, 1, 1, 1], \"Freq\": [36.93077087402344, 12.524016380310059, 10.725438117980957, 8.45680046081543, 8.240979194641113, 4.817238807678223, 3.82529354095459, 3.164776086807251, 1.6874773502349854, 1.5913300514221191, 1.32352876663208, 1.3203154802322388, 1.3042848110198975, 1.1544241905212402, 1.1318520307540894, 1.0376598834991455, 0.36502453684806824, 0.2156154066324234, 0.09480370581150055, 0.08837360888719559]}, \"tinfo\": {\"Category\": [\"Default\", \"Default\", \"Default\", \"Default\", \"Default\", \"Default\", \"Default\", \"Default\", \"Default\", \"Default\", \"Default\", \"Default\", \"Default\", \"Default\", \"Default\", \"Default\", \"Default\", \"Default\", \"Default\", \"Default\", \"Default\", \"Default\", \"Default\", \"Default\", \"Default\", \"Default\", \"Default\", \"Default\", \"Default\", \"Default\", \"Topic1\", \"Topic1\", \"Topic1\", \"Topic1\", \"Topic1\", \"Topic1\", \"Topic1\", \"Topic1\", \"Topic1\", \"Topic1\", \"Topic1\", \"Topic1\", \"Topic1\", \"Topic1\", \"Topic1\", \"Topic1\", \"Topic1\", \"Topic1\", \"Topic1\", \"Topic1\", \"Topic1\", \"Topic1\", \"Topic1\", \"Topic1\", \"Topic1\", \"Topic1\", \"Topic1\", \"Topic1\", \"Topic1\", \"Topic1\", \"Topic1\", \"Topic1\", \"Topic1\", \"Topic1\", \"Topic1\", \"Topic1\", \"Topic1\", \"Topic1\", \"Topic1\", \"Topic1\", \"Topic1\", \"Topic1\", \"Topic1\", \"Topic1\", \"Topic1\", \"Topic1\", \"Topic1\", \"Topic1\", \"Topic1\", \"Topic1\", \"Topic1\", \"Topic1\", \"Topic1\", \"Topic1\", \"Topic1\", \"Topic1\", \"Topic1\", \"Topic1\", \"Topic1\", \"Topic1\", \"Topic2\", \"Topic2\", \"Topic2\", \"Topic2\", \"Topic2\", \"Topic2\", \"Topic2\", \"Topic2\", \"Topic2\", \"Topic2\", \"Topic2\", \"Topic2\", \"Topic2\", \"Topic2\", \"Topic2\", \"Topic2\", \"Topic2\", \"Topic2\", \"Topic2\", \"Topic2\", \"Topic2\", \"Topic2\", \"Topic2\", \"Topic2\", \"Topic2\", \"Topic2\", \"Topic2\", \"Topic2\", \"Topic2\", \"Topic2\", \"Topic2\", \"Topic2\", \"Topic2\", \"Topic2\", \"Topic2\", \"Topic2\", \"Topic2\", \"Topic2\", \"Topic2\", \"Topic2\", \"Topic2\", \"Topic2\", \"Topic2\", \"Topic2\", \"Topic2\", \"Topic2\", \"Topic2\", \"Topic2\", \"Topic2\", \"Topic2\", \"Topic2\", \"Topic2\", \"Topic2\", \"Topic2\", \"Topic3\", \"Topic3\", \"Topic3\", \"Topic3\", \"Topic3\", \"Topic3\", \"Topic3\", \"Topic3\", \"Topic3\", \"Topic3\", \"Topic3\", \"Topic3\", \"Topic3\", \"Topic3\", \"Topic3\", \"Topic3\", \"Topic3\", \"Topic3\", \"Topic3\", \"Topic3\", \"Topic3\", \"Topic3\", \"Topic3\", \"Topic3\", \"Topic3\", \"Topic3\", \"Topic3\", \"Topic3\", \"Topic3\", \"Topic3\", \"Topic3\", \"Topic3\", \"Topic3\", \"Topic3\", \"Topic3\", \"Topic3\", \"Topic3\", \"Topic3\", \"Topic3\", \"Topic3\", \"Topic3\", \"Topic3\", \"Topic3\", \"Topic3\", \"Topic3\", \"Topic3\", \"Topic3\", \"Topic3\", \"Topic3\", \"Topic3\", \"Topic3\", \"Topic3\", \"Topic3\", \"Topic3\", \"Topic3\", \"Topic3\", \"Topic3\", \"Topic3\", \"Topic3\", \"Topic4\", \"Topic4\", \"Topic4\", \"Topic4\", \"Topic4\", \"Topic4\", \"Topic4\", \"Topic4\", \"Topic4\", \"Topic4\", \"Topic4\", \"Topic4\", \"Topic4\", \"Topic4\", \"Topic4\", \"Topic4\", \"Topic4\", \"Topic4\", \"Topic4\", \"Topic4\", \"Topic4\", \"Topic4\", \"Topic4\", \"Topic4\", \"Topic4\", \"Topic4\", \"Topic4\", \"Topic4\", \"Topic4\", \"Topic4\", \"Topic4\", \"Topic4\", \"Topic4\", \"Topic4\", \"Topic4\", \"Topic4\", \"Topic4\", \"Topic4\", \"Topic4\", \"Topic4\", \"Topic4\", \"Topic4\", \"Topic4\", \"Topic4\", \"Topic4\", \"Topic4\", \"Topic4\", \"Topic4\", \"Topic4\", \"Topic4\", \"Topic4\", \"Topic4\", \"Topic4\", \"Topic4\", \"Topic4\", \"Topic4\", \"Topic4\", \"Topic4\", \"Topic4\", \"Topic4\", \"Topic4\", \"Topic4\", \"Topic4\", \"Topic4\", \"Topic4\", \"Topic5\", \"Topic5\", \"Topic5\", \"Topic5\", \"Topic5\", \"Topic5\", \"Topic5\", \"Topic5\", \"Topic5\", \"Topic5\", \"Topic5\", \"Topic5\", \"Topic5\", \"Topic5\", \"Topic5\", \"Topic5\", \"Topic5\", \"Topic5\", \"Topic5\", \"Topic5\", \"Topic5\", \"Topic5\", \"Topic5\", \"Topic5\", \"Topic5\", \"Topic5\", \"Topic5\", \"Topic5\", \"Topic5\", \"Topic5\", \"Topic5\", \"Topic5\", \"Topic5\", \"Topic5\", \"Topic5\", \"Topic5\", \"Topic5\", \"Topic5\", \"Topic5\", \"Topic5\", \"Topic5\", \"Topic5\", \"Topic5\", \"Topic5\", \"Topic5\", \"Topic5\", \"Topic5\", \"Topic5\", \"Topic5\", \"Topic5\", \"Topic5\", \"Topic5\", \"Topic6\", \"Topic6\", \"Topic6\", \"Topic6\", \"Topic6\", \"Topic6\", \"Topic6\", \"Topic6\", \"Topic6\", \"Topic6\", \"Topic6\", \"Topic6\", \"Topic6\", \"Topic6\", \"Topic6\", \"Topic6\", \"Topic6\", \"Topic6\", \"Topic6\", \"Topic6\", \"Topic6\", \"Topic6\", \"Topic6\", \"Topic6\", \"Topic6\", \"Topic6\", \"Topic6\", \"Topic6\", \"Topic6\", \"Topic6\", \"Topic6\", \"Topic6\", \"Topic6\", \"Topic6\", \"Topic6\", \"Topic6\", \"Topic6\", \"Topic6\", \"Topic6\", \"Topic6\", \"Topic6\", \"Topic6\", \"Topic7\", \"Topic7\", \"Topic7\", \"Topic7\", \"Topic7\", \"Topic7\", \"Topic7\", \"Topic7\", \"Topic7\", \"Topic7\", \"Topic7\", \"Topic7\", \"Topic7\", \"Topic7\", \"Topic7\", \"Topic7\", \"Topic7\", \"Topic7\", \"Topic7\", \"Topic7\", \"Topic7\", \"Topic7\", \"Topic7\", \"Topic7\", \"Topic7\", \"Topic7\", \"Topic7\", \"Topic7\", \"Topic7\", \"Topic7\", \"Topic7\", \"Topic7\", \"Topic7\", \"Topic7\", \"Topic7\", \"Topic7\", \"Topic7\", \"Topic7\", \"Topic7\", \"Topic7\", \"Topic7\", \"Topic7\", \"Topic7\", \"Topic8\", \"Topic8\", \"Topic8\", \"Topic8\", \"Topic8\", \"Topic8\", \"Topic8\", \"Topic8\", \"Topic8\", \"Topic8\", \"Topic8\", \"Topic8\", \"Topic8\", \"Topic8\", \"Topic8\", \"Topic8\", \"Topic8\", \"Topic8\", \"Topic8\", \"Topic8\", \"Topic8\", \"Topic8\", \"Topic8\", \"Topic8\", \"Topic8\", \"Topic8\", \"Topic8\", \"Topic8\", \"Topic8\", \"Topic8\", \"Topic8\", \"Topic8\", \"Topic8\", \"Topic8\", \"Topic8\", \"Topic8\", \"Topic8\", \"Topic8\", \"Topic8\", \"Topic8\", \"Topic8\", \"Topic8\", \"Topic8\", \"Topic8\", \"Topic9\", \"Topic9\", \"Topic9\", \"Topic9\", \"Topic9\", \"Topic9\", \"Topic9\", \"Topic9\", \"Topic9\", \"Topic9\", \"Topic9\", \"Topic9\", \"Topic9\", \"Topic9\", \"Topic9\", \"Topic9\", \"Topic9\", \"Topic9\", \"Topic9\", \"Topic9\", \"Topic9\", \"Topic9\", \"Topic9\", \"Topic9\", \"Topic9\", \"Topic9\", \"Topic9\", \"Topic9\", \"Topic9\", \"Topic9\", \"Topic9\", \"Topic9\", \"Topic9\", \"Topic9\", \"Topic9\", \"Topic9\", \"Topic9\", \"Topic9\", \"Topic9\", \"Topic9\", \"Topic10\", \"Topic10\", \"Topic10\", \"Topic10\", \"Topic10\", \"Topic10\", \"Topic10\", \"Topic10\", \"Topic10\", \"Topic10\", \"Topic10\", \"Topic10\", \"Topic10\", \"Topic10\", \"Topic10\", \"Topic10\", \"Topic10\", \"Topic10\", \"Topic10\", \"Topic10\", \"Topic10\", \"Topic10\", \"Topic10\", \"Topic10\", \"Topic10\", \"Topic10\", \"Topic10\", \"Topic10\", \"Topic10\", \"Topic10\", \"Topic10\", \"Topic10\", \"Topic10\", \"Topic10\", \"Topic10\", \"Topic10\", \"Topic10\", \"Topic10\", \"Topic10\", \"Topic10\", \"Topic10\", \"Topic10\", \"Topic11\", \"Topic11\", \"Topic11\", \"Topic11\", \"Topic11\", \"Topic11\", \"Topic11\", \"Topic11\", \"Topic11\", \"Topic11\", \"Topic11\", \"Topic11\", \"Topic11\", \"Topic11\", \"Topic11\", \"Topic11\", \"Topic11\", \"Topic11\", \"Topic11\", \"Topic11\", \"Topic11\", \"Topic11\", \"Topic11\", \"Topic11\", \"Topic11\", \"Topic11\", \"Topic11\", \"Topic11\", \"Topic11\", \"Topic11\", \"Topic11\", \"Topic11\", \"Topic11\", \"Topic11\", \"Topic11\", \"Topic11\", \"Topic11\", \"Topic11\", \"Topic11\", \"Topic11\", \"Topic11\", \"Topic12\", \"Topic12\", \"Topic12\", \"Topic12\", \"Topic12\", \"Topic12\", \"Topic12\", \"Topic12\", \"Topic12\", \"Topic12\", \"Topic12\", \"Topic12\", \"Topic12\", \"Topic12\", \"Topic12\", \"Topic12\", \"Topic12\", \"Topic12\", \"Topic12\", \"Topic12\", \"Topic12\", \"Topic12\", \"Topic12\", \"Topic12\", \"Topic12\", \"Topic12\", \"Topic12\", \"Topic12\", \"Topic12\", \"Topic12\", \"Topic12\", \"Topic12\", \"Topic12\", \"Topic12\", \"Topic12\", \"Topic13\", \"Topic13\", \"Topic13\", \"Topic13\", \"Topic13\", \"Topic13\", \"Topic13\", \"Topic13\", \"Topic13\", \"Topic13\", \"Topic13\", \"Topic13\", \"Topic13\", \"Topic13\", \"Topic13\", \"Topic13\", \"Topic13\", \"Topic13\", \"Topic13\", \"Topic13\", \"Topic13\", \"Topic13\", \"Topic13\", \"Topic13\", \"Topic13\", \"Topic13\", \"Topic13\", \"Topic13\", \"Topic13\", \"Topic13\", \"Topic13\", \"Topic13\", \"Topic13\", \"Topic13\", \"Topic14\", \"Topic14\", \"Topic14\", \"Topic14\", \"Topic14\", \"Topic14\", \"Topic14\", \"Topic14\", \"Topic14\", \"Topic14\", \"Topic14\", \"Topic14\", \"Topic14\", \"Topic14\", \"Topic14\", \"Topic14\", \"Topic14\", \"Topic14\", \"Topic14\", \"Topic14\", \"Topic14\", \"Topic14\", \"Topic14\", \"Topic14\", \"Topic14\", \"Topic14\", \"Topic14\", \"Topic14\", \"Topic14\", \"Topic14\", \"Topic14\", \"Topic14\", \"Topic14\", \"Topic14\", \"Topic14\", \"Topic15\", \"Topic15\", \"Topic15\", \"Topic15\", \"Topic15\", \"Topic15\", \"Topic15\", \"Topic15\", \"Topic15\", \"Topic15\", \"Topic15\", \"Topic15\", \"Topic15\", \"Topic15\", \"Topic15\", \"Topic15\", \"Topic15\", \"Topic15\", \"Topic15\", \"Topic15\", \"Topic15\", \"Topic15\", \"Topic15\", \"Topic15\", \"Topic15\", \"Topic15\", \"Topic15\", \"Topic15\", \"Topic15\", \"Topic15\", \"Topic15\", \"Topic15\", \"Topic16\", \"Topic16\", \"Topic16\", \"Topic16\", \"Topic16\", \"Topic16\", \"Topic16\", \"Topic16\", \"Topic16\", \"Topic16\", \"Topic16\", \"Topic16\", \"Topic16\", \"Topic16\", \"Topic16\", \"Topic16\", \"Topic16\", \"Topic16\", \"Topic16\", \"Topic16\", \"Topic16\", \"Topic16\", \"Topic16\", \"Topic16\", \"Topic16\", \"Topic16\", \"Topic16\", \"Topic16\", \"Topic16\", \"Topic16\", \"Topic16\", \"Topic16\", \"Topic16\", \"Topic16\", \"Topic16\", \"Topic16\", \"Topic16\", \"Topic16\", \"Topic16\", \"Topic16\", \"Topic17\", \"Topic17\", \"Topic17\", \"Topic17\", \"Topic17\", \"Topic17\", \"Topic17\", \"Topic17\", \"Topic17\", \"Topic17\", \"Topic17\", \"Topic17\", \"Topic17\", \"Topic17\", \"Topic17\", \"Topic17\", \"Topic17\", \"Topic17\", \"Topic17\", \"Topic17\", \"Topic17\", \"Topic17\", \"Topic17\", \"Topic17\", \"Topic17\", \"Topic17\", \"Topic17\", \"Topic17\", \"Topic17\", \"Topic17\", \"Topic17\", \"Topic17\", \"Topic18\", \"Topic18\", \"Topic18\", \"Topic18\", \"Topic18\", \"Topic18\", \"Topic18\", \"Topic18\", \"Topic18\", \"Topic18\", \"Topic18\", \"Topic18\", \"Topic18\", \"Topic18\", \"Topic18\", \"Topic18\", \"Topic18\", \"Topic18\", \"Topic18\", \"Topic18\", \"Topic18\", \"Topic18\", \"Topic18\", \"Topic18\", \"Topic18\", \"Topic18\", \"Topic18\", \"Topic18\", \"Topic18\", \"Topic18\", \"Topic18\", \"Topic18\", \"Topic18\", \"Topic18\", \"Topic19\", \"Topic19\", \"Topic19\", \"Topic19\", \"Topic19\", \"Topic19\", \"Topic19\", \"Topic19\", \"Topic19\", \"Topic19\", \"Topic19\", \"Topic19\", \"Topic19\", \"Topic19\", \"Topic19\", \"Topic19\", \"Topic19\", \"Topic19\", \"Topic19\", \"Topic19\", \"Topic19\", \"Topic19\", \"Topic19\", \"Topic19\", \"Topic19\", \"Topic19\", \"Topic19\", \"Topic19\", \"Topic19\", \"Topic19\", \"Topic19\", \"Topic19\", \"Topic19\", \"Topic19\", \"Topic19\", \"Topic19\", \"Topic19\", \"Topic19\", \"Topic19\", \"Topic19\", \"Topic19\", \"Topic19\", \"Topic19\", \"Topic19\", \"Topic20\", \"Topic20\", \"Topic20\", \"Topic20\", \"Topic20\", \"Topic20\", \"Topic20\", \"Topic20\", \"Topic20\", \"Topic20\", \"Topic20\", \"Topic20\", \"Topic20\", \"Topic20\", \"Topic20\", \"Topic20\", \"Topic20\", \"Topic20\", \"Topic20\", \"Topic20\", \"Topic20\", \"Topic20\", \"Topic20\", \"Topic20\", \"Topic20\", \"Topic20\", \"Topic20\", \"Topic20\", \"Topic20\", \"Topic20\", \"Topic20\", \"Topic20\", \"Topic20\"], \"Freq\": [15754.0, 16073.0, 4605.0, 13331.0, 2799.0, 2512.0, 7489.0, 2369.0, 8600.0, 4467.0, 2578.0, 5819.0, 2804.0, 8562.0, 4018.0, 8459.0, 2651.0, 3189.0, 1893.0, 3192.0, 4867.0, 1642.0, 4183.0, 7510.0, 2095.0, 1729.0, 1918.0, 7519.0, 3122.0, 2107.0, 16072.1630859375, 13330.1826171875, 8561.30859375, 8458.55859375, 7509.62890625, 3784.967529296875, 2960.98388671875, 2791.40380859375, 2110.275390625, 2000.1571044921875, 1889.6611328125, 1867.775146484375, 1695.42919921875, 1512.5546875, 1488.4288330078125, 1414.4971923828125, 1348.3525390625, 1252.9322509765625, 1200.681884765625, 1088.6151123046875, 1080.72607421875, 1037.8707275390625, 988.0504150390625, 926.8546752929688, 921.6966552734375, 915.3505859375, 875.600341796875, 814.1366577148438, 801.4810180664062, 777.1019287109375, 7483.79833984375, 5014.14990234375, 4156.98193359375, 6025.64892578125, 2028.4820556640625, 3795.43603515625, 1800.3974609375, 1632.2882080078125, 3557.053955078125, 2549.666259765625, 5665.798828125, 4335.36376953125, 3101.552490234375, 6884.67041015625, 3900.98828125, 2906.639404296875, 4152.71142578125, 6853.107421875, 6166.4072265625, 2475.111083984375, 11224.2900390625, 3947.635009765625, 3439.810546875, 4885.32861328125, 3792.38623046875, 3178.6943359375, 3269.747314453125, 4937.20361328125, 3118.17529296875, 3549.237548828125, 2822.160400390625, 2029.3603515625, 1895.4832763671875, 1737.7525634765625, 1569.833251953125, 1417.98388671875, 1005.3951416015625, 984.9474487304688, 956.3041381835938, 778.5745239257812, 714.28271484375, 693.154296875, 678.1116333007812, 659.7666625976562, 658.6561279296875, 637.5960083007812, 625.1119384765625, 592.1253051757812, 556.1241455078125, 552.1122436523438, 530.0667114257812, 484.8057556152344, 456.869384765625, 455.6756286621094, 446.8463439941406, 434.205078125, 423.24188232421875, 417.5745849609375, 389.0062255859375, 376.4805603027344, 2113.822998046875, 1212.3427734375, 1229.5394287109375, 1587.358154296875, 574.5014038085938, 2934.07958984375, 5524.234375, 980.6177978515625, 930.8196411132812, 2277.22509765625, 1329.21875, 1165.608642578125, 1543.111572265625, 3662.637939453125, 1547.3150634765625, 1161.638427734375, 1594.81103515625, 1107.465576171875, 1623.7745361328125, 803.5025024414062, 898.253662109375, 1582.7322998046875, 1009.5743408203125, 972.9932861328125, 2168.3515625, 1614.3516845703125, 1353.9613037109375, 951.7067260742188, 930.7299194335938, 894.55517578125, 880.6759643554688, 821.8065795898438, 641.8200073242188, 626.6199951171875, 616.6689453125, 572.2068481445312, 568.49755859375, 520.81884765625, 485.865478515625, 458.5909729003906, 444.10400390625, 427.80902099609375, 422.84503173828125, 412.2303161621094, 402.3501892089844, 392.4630126953125, 378.6263427734375, 372.738037109375, 364.58148193359375, 350.8540954589844, 343.1136779785156, 320.306396484375, 315.779296875, 311.95697021484375, 1164.07080078125, 668.2774658203125, 2952.551025390625, 514.1278686523438, 1697.5712890625, 468.9888000488281, 1615.20751953125, 665.5672607421875, 2000.3726806640625, 1134.171142578125, 1121.628173828125, 946.9967041015625, 916.5759887695312, 567.8911743164062, 869.370849609375, 1280.7760009765625, 1469.7032470703125, 1972.4495849609375, 1068.2783203125, 1193.978271484375, 2196.443359375, 2248.13427734375, 1237.8148193359375, 917.5308837890625, 1064.671142578125, 757.875244140625, 849.5036010742188, 1106.6246337890625, 901.1851196289062, 1300.1201171875, 848.7466430664062, 842.4972534179688, 753.9175415039062, 626.7386474609375, 614.2454223632812, 524.1116333007812, 493.7667236328125, 455.845703125, 449.4263916015625, 418.2608947753906, 417.13214111328125, 401.030029296875, 380.4347229003906, 363.7293701171875, 359.099609375, 347.8164367675781, 343.2816467285156, 341.15704345703125, 338.29608154296875, 337.01409912109375, 333.04962158203125, 321.03143310546875, 315.22308349609375, 314.5894470214844, 296.92864990234375, 295.0670166015625, 292.7953186035156, 291.151611328125, 290.828125, 880.292236328125, 747.8609008789062, 1731.427734375, 3532.222900390625, 489.3655700683594, 918.9284057617188, 1494.23388671875, 524.7313842773438, 1411.38330078125, 442.68963623046875, 784.5626831054688, 500.2373352050781, 605.9956665039062, 716.407958984375, 451.8248291015625, 652.5755615234375, 495.0428161621094, 656.9818725585938, 1053.999267578125, 792.2037353515625, 778.51171875, 1080.815673828125, 697.2494506835938, 909.3003540039062, 566.0147705078125, 792.372314453125, 649.0689697265625, 614.6094970703125, 609.1276245117188, 854.9495849609375, 923.5853881835938, 628.611328125, 634.668701171875, 643.6685180664062, 668.77001953125, 3187.923095703125, 2220.22900390625, 1588.5089111328125, 1442.5704345703125, 1170.792724609375, 1101.5673828125, 993.4984741210938, 833.77978515625, 766.1945190429688, 754.34423828125, 718.1390991210938, 707.68310546875, 659.5637817382812, 652.08056640625, 609.3473510742188, 606.2378540039062, 600.306396484375, 586.6707763671875, 536.8276977539062, 501.5950927734375, 466.49725341796875, 441.8650207519531, 425.83392333984375, 377.318115234375, 374.2192687988281, 369.34619140625, 325.5934753417969, 313.3553161621094, 310.9430847167969, 292.6488037109375, 961.993408203125, 1239.9818115234375, 1033.0540771484375, 1145.9820556640625, 3441.501220703125, 4112.11669921875, 1349.871826171875, 710.3162841796875, 1038.0379638671875, 1210.755859375, 2351.424072265625, 1729.451904296875, 1595.5777587890625, 4529.328125, 2093.409423828125, 822.3302612304688, 1017.0634765625, 1107.78515625, 1192.9873046875, 996.8980712890625, 722.1012573242188, 725.1221313476562, 2650.2529296875, 2106.8212890625, 1463.71337890625, 1420.929443359375, 918.1592407226562, 702.1477661132812, 689.2174682617188, 661.6721801757812, 660.783203125, 637.8030395507812, 589.2642822265625, 575.7064208984375, 563.817138671875, 500.7141418457031, 500.0756530761719, 463.15863037109375, 442.81866455078125, 429.6551818847656, 423.141357421875, 392.5437927246094, 387.3995361328125, 386.98382568359375, 378.3326721191406, 369.9744567871094, 363.87091064453125, 360.33447265625, 357.4825439453125, 344.1821594238281, 343.8181457519531, 339.83416748046875, 436.04913330078125, 817.9112548828125, 1447.327880859375, 376.1736755371094, 452.76141357421875, 772.7413330078125, 872.3845825195312, 471.3114013671875, 407.3712158203125, 437.6438903808594, 421.4819030761719, 432.7163391113281, 1336.5797119140625, 1143.8604736328125, 899.673095703125, 798.1548461914062, 730.0198974609375, 669.8120727539062, 630.189697265625, 560.5886840820312, 500.8770751953125, 500.7718200683594, 462.5313720703125, 461.4844055175781, 442.1170959472656, 440.3915710449219, 390.1863708496094, 348.358154296875, 346.3998718261719, 325.3271789550781, 323.6173400878906, 456.6799621582031, 313.0738525390625, 293.8381652832031, 284.22833251953125, 280.2090148925781, 278.46466064453125, 250.79998779296875, 231.40821838378906, 222.2816162109375, 216.25607299804688, 211.99534606933594, 334.97772216796875, 773.2952880859375, 293.1722717285156, 796.1756591796875, 1055.0640869140625, 698.0594482421875, 713.656494140625, 609.2315063476562, 508.0858459472656, 1012.1031494140625, 561.3455810546875, 652.7597045898438, 537.5665283203125, 2577.541748046875, 2094.461181640625, 1211.7501220703125, 1082.72705078125, 1032.05810546875, 809.8809204101562, 779.6524658203125, 758.4566650390625, 676.3501586914062, 542.3104248046875, 488.4644470214844, 420.2890625, 277.1795959472656, 276.65606689453125, 256.83380126953125, 972.4788818359375, 227.80479431152344, 221.24517822265625, 205.1781005859375, 199.8275909423828, 185.271728515625, 182.16409301757812, 155.36082458496094, 138.1398162841797, 120.37051391601562, 119.95306396484375, 105.12462615966797, 91.18484497070312, 90.47858428955078, 89.92828369140625, 705.7637939453125, 1068.2445068359375, 729.4208984375, 2009.6075439453125, 367.8337707519531, 788.9588012695312, 347.18243408203125, 330.0505065917969, 273.1339111328125, 268.7086181640625, 353.1642761230469, 397.60504150390625, 326.9812316894531, 279.4648742675781, 1277.503662109375, 745.9285888671875, 724.211669921875, 597.4072875976562, 512.7236328125, 492.2772216796875, 482.1929626464844, 469.3541259765625, 405.7510986328125, 376.7947998046875, 373.3363037109375, 304.97747802734375, 300.51202392578125, 288.2831115722656, 265.786376953125, 236.76345825195312, 232.0950164794922, 186.0353240966797, 184.01132202148438, 177.5980987548828, 164.6617889404297, 164.6258087158203, 159.08087158203125, 148.10377502441406, 128.3808135986328, 107.41541290283203, 101.943115234375, 101.41018676757812, 99.9318618774414, 82.86620330810547, 298.58599853515625, 570.2224731445312, 1088.326416015625, 347.48419189453125, 255.18373107910156, 338.96417236328125, 332.04266357421875, 211.80410766601562, 249.5585479736328, 195.06398010253906, 1892.8516845703125, 1728.811767578125, 1313.6251220703125, 1219.972900390625, 529.5381469726562, 485.0360412597656, 459.11492919921875, 339.73822021484375, 301.4775695800781, 217.10174560546875, 212.513671875, 173.68930053710938, 166.3311004638672, 164.51492309570312, 149.9197998046875, 132.3694610595703, 120.63671875, 104.42119598388672, 99.3934555053711, 87.04646301269531, 84.84378814697266, 75.25316619873047, 67.23185729980469, 63.526729583740234, 59.46986389160156, 56.96932601928711, 55.676029205322266, 54.70621871948242, 52.98409652709961, 50.39984130859375, 164.20205688476562, 1063.7039794921875, 187.4344024658203, 228.20130920410156, 444.38519287109375, 172.55014038085938, 298.6317138671875, 128.0743408203125, 257.1891174316406, 126.54579162597656, 162.82086181640625, 128.3316192626953, 1098.1558837890625, 819.8514404296875, 786.8605346679688, 672.5034790039062, 647.7435913085938, 490.9598083496094, 403.0462341308594, 348.9281311035156, 286.11517333984375, 257.5958557128906, 232.5451202392578, 215.9742889404297, 209.99630737304688, 206.3018798828125, 177.50608825683594, 175.88836669921875, 141.9626922607422, 137.68267822265625, 132.0727081298828, 121.6034164428711, 118.0625228881836, 113.29300689697266, 100.22734069824219, 89.03797149658203, 78.7394790649414, 77.79026794433594, 77.71007537841797, 74.13603210449219, 73.67310333251953, 69.81515502929688, 237.2747802734375, 496.98699951171875, 634.8713989257812, 216.31170654296875, 234.4674530029297, 125.10562133789062, 238.12240600585938, 321.63775634765625, 230.24163818359375, 150.8119659423828, 130.5094757080078, 2797.990478515625, 2368.599609375, 792.712646484375, 559.509033203125, 548.8466186523438, 423.0121154785156, 274.85919189453125, 237.66302490234375, 208.89215087890625, 174.891357421875, 172.0929718017578, 161.2337646484375, 157.1440887451172, 142.247802734375, 127.56546020507812, 126.90501403808594, 120.25543975830078, 91.0736312866211, 82.24628448486328, 80.72132110595703, 80.72132110595703, 80.72132110595703, 78.5294189453125, 76.29097747802734, 63.75062942504883, 52.17505645751953, 48.48125457763672, 44.84126663208008, 43.42341613769531, 38.93955993652344, 133.32196044921875, 130.93893432617188, 71.97809600830078, 68.25424194335938, 80.43197631835938, 509.9438781738281, 427.6069641113281, 361.9627685546875, 331.2850036621094, 321.8192443847656, 289.6525573730469, 274.5651550292969, 256.4377746582031, 256.2054748535156, 241.73104858398438, 214.93385314941406, 208.5738983154297, 207.5191650390625, 199.11306762695312, 193.96127319335938, 181.52188110351562, 176.40411376953125, 175.40916442871094, 169.52621459960938, 168.89813232421875, 167.23866271972656, 163.64085388183594, 159.8507080078125, 158.42498779296875, 154.39910888671875, 147.82127380371094, 140.06480407714844, 139.0474853515625, 137.95497131347656, 137.4207000732422, 1173.6617431640625, 358.13702392578125, 152.4647979736328, 148.1796112060547, 709.4989624023438, 667.2606201171875, 645.0631103515625, 388.3914489746094, 345.2723083496094, 339.0917663574219, 318.7381286621094, 291.3949279785156, 291.21392822265625, 276.212158203125, 268.60650634765625, 238.71876525878906, 237.83847045898438, 233.72463989257812, 209.59564208984375, 194.98211669921875, 192.27890014648438, 168.5387420654297, 144.29457092285156, 143.59451293945312, 132.56358337402344, 124.00921630859375, 113.09644317626953, 111.68596649169922, 111.14974212646484, 105.2193374633789, 102.0008773803711, 97.81485748291016, 85.48475646972656, 84.6672592163086, 408.3769836425781, 340.4177551269531, 390.18988037109375, 250.13320922851562, 226.17660522460938, 749.8702392578125, 510.7216796875, 480.5315246582031, 467.6383361816406, 385.05950927734375, 380.78900146484375, 361.6312561035156, 355.2803649902344, 343.3648986816406, 342.4108581542969, 285.0185852050781, 257.4404296875, 222.34303283691406, 209.03054809570312, 195.0329132080078, 163.76998901367188, 162.5313262939453, 144.87889099121094, 142.125244140625, 141.4512176513672, 134.61114501953125, 130.06874084472656, 127.51506042480469, 126.21236419677734, 122.99263763427734, 116.46778106689453, 114.15168762207031, 110.54373168945312, 106.7076187133789, 106.07911682128906, 729.9781494140625, 210.99378967285156, 1641.248046875, 448.1889343261719, 423.3076171875, 321.93218994140625, 236.8123779296875, 188.43865966796875, 130.14254760742188, 119.62105560302734, 97.69644927978516, 91.09898376464844, 88.77334594726562, 85.32074737548828, 2476.871826171875, 72.7031478881836, 70.8084716796875, 66.7121810913086, 64.06324005126953, 58.90973663330078, 58.22993087768555, 56.79861068725586, 51.262996673583984, 46.6768798828125, 45.399593353271484, 44.9664192199707, 43.486572265625, 40.67727279663086, 38.64926528930664, 34.78712463378906, 31.807300567626953, 28.803009033203125, 166.50196838378906, 794.815185546875, 207.12057495117188, 184.07777404785156, 201.33595275878906, 207.31362915039062, 118.61373138427734, 114.78166198730469, 80.1386947631836, 101.7863998413086, 683.5866088867188, 446.2698974609375, 400.95025634765625, 317.483642578125, 114.59548950195312, 111.24767303466797, 90.90560150146484, 65.7186508178711, 60.62081527709961, 133.0004425048828, 0.04308520257472992, 0.04307601973414421, 0.04307756572961807, 0.04307426139712334, 0.04307365044951439, 0.043074239045381546, 0.04307302087545395, 0.043072860687971115, 0.043073054403066635, 0.04307388886809349, 0.04307209327816963, 0.04307187348604202, 0.04307181015610695, 0.04307179152965546, 0.04307181015610695, 0.043071500957012177, 0.0430707186460495, 0.04307243227958679, 0.04307036101818085, 0.04307134822010994, 0.04307087883353233, 0.04307107999920845, 413.3502502441406, 195.60643005371094, 118.77916717529297, 65.51568603515625, 62.3311882019043, 54.402015686035156, 11.470714569091797, 9.406512260437012, 6.62656307220459, 20.090776443481445, 0.03749082237482071, 0.03748742491006851, 0.03748567774891853, 0.03748340904712677, 0.03748323395848274, 0.03748149797320366, 0.03748169541358948, 0.03748322278261185, 0.037480782717466354, 0.03748079016804695, 0.03748078644275665, 0.03748118877410889, 0.037480831146240234, 0.03748147562146187, 0.037481680512428284, 0.03748209401965141, 0.03748111054301262, 0.03748050332069397, 0.03748070448637009, 0.03748001530766487, 0.03748001530766487, 0.03748207911849022, 0.037481024861335754, 0.0374821200966835, 51.54420471191406, 45.28679275512695, 42.486122131347656, 33.33445358276367, 31.852190017700195, 22.40908432006836, 12.282259941101074, 6.5131049156188965, 4.468562602996826, 2.4641671180725098, 0.02075323462486267, 0.02075260318815708, 0.020752623677253723, 0.02075260318815708, 0.02075226977467537, 0.02075221575796604, 0.02075221575796604, 0.02075221575796604, 0.02075221575796604, 0.02075241133570671, 0.02075221575796604, 0.020752210170030594, 0.020752543583512306, 0.020752130076289177, 0.020752210170030594, 0.020752131938934326, 0.020752154290676117, 0.020752262324094772, 0.020752212032675743, 0.020752064883708954, 0.020752348005771637, 0.02075219713151455, 0.02075234428048134, 0.0207524374127388, 0.020752323791384697, 0.020752517506480217, 0.02075236104428768, 0.020752398297190666, 0.020752280950546265, 0.020752495154738426, 0.02075258269906044, 0.020752305164933205, 0.020752431824803352, 0.020752355456352234, 116.57048797607422, 48.33637237548828, 33.03213882446289, 26.553424835205078, 15.305740356445312, 0.019237661734223366, 0.01923755556344986, 0.019235368818044662, 0.01923505961894989, 0.019234532490372658, 0.0192340686917305, 0.019234152510762215, 0.019234003499150276, 0.01923401467502117, 0.019233977422118187, 0.019234003499150276, 0.019233977422118187, 0.019234003499150276, 0.01923401467502117, 0.01923401840031147, 0.019233979284763336, 0.01923399604856968, 0.019233986735343933, 0.019234005361795425, 0.01923408731818199, 0.019233936443924904, 0.019233740866184235, 0.019233735278248787, 0.01923368126153946, 0.019234109669923782, 0.01923424005508423, 0.01923416368663311, 0.019234051927924156], \"Term\": [\"line\", \"would\", \"year\", \"write\", \"ax\", \"drive\", \"people\", \"max\", \"say\", \"system\", \"file\", \"use\", \"program\", \"article\", \"problem\", \"know\", \"key\", \"thank\", \"team\", \"believe\", \"host\", \"car\", \"need\", \"be\", \"window\", \"game\", \"bit\", \"think\", \"number\", \"government\", \"would\", \"write\", \"article\", \"know\", \"be\", \"s\", \"really\", \"have\", \"bad\", \"hear\", \"probably\", \"lot\", \"talk\", \"idea\", \"actually\", \"maybe\", \"ever\", \"remember\", \"money\", \"quite\", \"else\", \"sound\", \"hope\", \"face\", \"news\", \"ill\", \"pretty\", \"guess\", \"wonder\", \"care\", \"think\", \"could\", \"well\", \"good\", \"let\", \"organization\", \"great\", \"enough\", \"much\", \"sure\", \"see\", \"thing\", \"tell\", \"go\", \"try\", \"seem\", \"want\", \"make\", \"get\", \"still\", \"line\", \"come\", \"way\", \"time\", \"take\", \"look\", \"give\", \"say\", \"even\", \"may\", \"evidence\", \"claim\", \"man\", \"sense\", \"person\", \"child\", \"argument\", \"explain\", \"prove\", \"history\", \"human\", \"church\", \"israeli\", \"woman\", \"conclusion\", \"statement\", \"religious\", \"publish\", \"jewish\", \"deny\", \"act\", \"therefore\", \"nature\", \"society\", \"moral\", \"refer\", \"quote\", \"bear\", \"authority\", \"practice\", \"fact\", \"word\", \"life\", \"exist\", \"attempt\", \"reason\", \"people\", \"view\", \"rule\", \"believe\", \"law\", \"world\", \"must\", \"say\", \"state\", \"live\", \"mean\", \"true\", \"many\", \"matter\", \"example\", \"may\", \"however\", \"follow\", \"information\", \"list\", \"technology\", \"design\", \"reference\", \"internet\", \"service\", \"research\", \"complete\", \"release\", \"detail\", \"directly\", \"develop\", \"request\", \"material\", \"operate\", \"development\", \"tool\", \"addition\", \"technical\", \"obtain\", \"baseball\", \"generate\", \"worry\", \"student\", \"operation\", \"review\", \"procedure\", \"bill\", \"data\", \"test\", \"distribution\", \"number\", \"perform\", \"support\", \"paper\", \"source\", \"page\", \"include\", \"receive\", \"note\", \"current\", \"add\", \"contact\", \"rate\", \"base\", \"provide\", \"new\", \"available\", \"high\", \"also\", \"may\", \"group\", \"require\", \"part\", \"datum\", \"allow\", \"year\", \"send\", \"turn\", \"light\", \"bike\", \"tape\", \"remove\", \"replace\", \"ride\", \"steal\", \"drop\", \"mount\", \"pull\", \"owner\", \"front\", \"poor\", \"apple\", \"room\", \"foot\", \"hole\", \"mine\", \"warranty\", \"insurance\", \"building\", \"push\", \"clean\", \"street\", \"piece\", \"somewhere\", \"rider\", \"btw\", \"screw\", \"cut\", \"head\", \"will\", \"problem\", \"eat\", \"home\", \"power\", \"hour\", \"leave\", \"fit\", \"solution\", \"ground\", \"spend\", \"side\", \"minute\", \"month\", \"amount\", \"sometimes\", \"old\", \"second\", \"small\", \"back\", \"low\", \"end\", \"usually\", \"high\", \"lead\", \"return\", \"move\", \"first\", \"time\", \"check\", \"less\", \"start\", \"work\", \"thank\", \"mail\", \"computer\", \"software\", \"email\", \"com\", \"sale\", \"screen\", \"ca\", \"phone\", \"server\", \"graphic\", \"package\", \"monitor\", \"network\", \"video\", \"input\", \"character\", \"format\", \"normal\", \"board\", \"feature\", \"switch\", \"trust\", \"mouse\", \"manual\", \"convert\", \"fax\", \"cable\", \"font\", \"info\", \"price\", \"machine\", \"sell\", \"system\", \"use\", \"card\", \"hardware\", \"type\", \"message\", \"need\", \"run\", \"help\", \"line\", \"host\", \"copy\", \"buy\", \"send\", \"work\", \"new\", \"user\", \"nntp_poste\", \"key\", \"government\", \"gun\", \"kill\", \"attack\", \"war\", \"security\", \"protect\", \"soldier\", \"private\", \"crime\", \"murder\", \"clipper\", \"police\", \"weapon\", \"secure\", \"citizen\", \"tap\", \"trial\", \"firearm\", \"listen\", \"secret\", \"criminal\", \"cop\", \"terrorism\", \"withdraw\", \"occupy\", \"arm\", \"step\", \"population\", \"policy\", \"country\", \"public\", \"fight\", \"military\", \"state\", \"right\", \"carry\", \"shoot\", \"death\", \"force\", \"law\", \"report\", \"physical\", \"purpose\", \"effect\", \"produce\", \"drug\", \"goal\", \"method\", \"reduce\", \"approach\", \"clearly\", \"period\", \"scientific\", \"direct\", \"convince\", \"table\", \"vote\", \"minor\", \"boy\", \"indicate\", \"tax\", \"effective\", \"dangerous\", \"primarily\", \"prior\", \"proposal\", \"creation\", \"agent\", \"express\", \"acquire\", \"measure\", \"study\", \"propose\", \"increase\", \"result\", \"value\", \"accept\", \"control\", \"contain\", \"system\", \"less\", \"case\", \"use\", \"file\", \"window\", \"image\", \"entry\", \"color\", \"display\", \"code\", \"function\", \"faq\", \"object\", \"originator\", \"printer\", \"directory\", \"sun\", \"compile\", \"application\", \"map\", \"bug\", \"configuration\", \"icon\", \"variable\", \"stream\", \"assign\", \"extension\", \"scare\", \"programmer\", \"correction\", \"parameter\", \"infinite\", \"incorrect\", \"section\", \"version\", \"error\", \"program\", \"text\", \"set\", \"instal\", \"contain\", \"author\", \"size\", \"change\", \"problem\", \"follow\", \"create\", \"chip\", \"memory\", \"disk\", \"device\", \"bus\", \"scsi\", \"family\", \"cpu\", \"port\", \"library\", \"controller\", \"pack\", \"interface\", \"ide\", \"ram\", \"upgrade\", \"dual\", \"motherboard\", \"clock\", \"direction\", \"connector\", \"soul\", \"utility\", \"floppy\", \"compute\", \"brief\", \"installation\", \"fancy\", \"brand\", \"mb\", \"transfer\", \"speed\", \"bit\", \"mode\", \"performance\", \"fast\", \"card\", \"unit\", \"datum\", \"pc\", \"team\", \"game\", \"play\", \"win\", \"score\", \"division\", \"wing\", \"average\", \"star\", \"ice\", \"stat\", \"morality\", \"cry\", \"offense\", \"pitch\", \"pub\", \"crack\", \"era\", \"significance\", \"chemical\", \"hitter\", \"starter\", \"rain\", \"closely\", \"defensive\", \"characterize\", \"retrieve\", \"emphasis\", \"receiver\", \"unnecessary\", \"defense\", \"year\", \"final\", \"hit\", \"run\", \"pick\", \"last\", \"third\", \"first\", \"total\", \"next\", \"second\", \"faith\", \"religion\", \"god\", \"truth\", \"belief\", \"christian\", \"shall\", \"revelation\", \"atheism\", \"false\", \"scripture\", \"processor\", \"interpretation\", \"understanding\", \"meaning\", \"draft\", \"algorithm\", \"islamic\", \"biblical\", \"absolute\", \"scale\", \"reward\", \"found\", \"punish\", \"assert\", \"creator\", \"opposite\", \"angel\", \"teaching\", \"core\", \"reject\", \"science\", \"book\", \"respect\", \"indeed\", \"principle\", \"accept\", \"believe\", \"become\", \"love\", \"other\", \"ax\", \"max\", \"village\", \"greek\", \"turkish\", \"armenian\", \"inhabitant\", \"closed\", \"genocide\", \"electrical\", \"aged\", \"massacre\", \"moslem\", \"occupation\", \"muslim\", \"serdar_argic\", \"intelligence\", \"wound\", \"remainder\", \"melkonian\", \"appressian\", \"soul_sahak\", \"survivor\", \"turkey\", \"scene\", \"fascist\", \"territorial\", \"province\", \"exterminate\", \"systematically\", \"slaughter\", \"escape\", \"proceed\", \"russian\", \"road\", \"press\", \"launch\", \"cool\", \"orbit\", \"mission\", \"satellite\", \"plane\", \"cycle\", \"flight\", \"surface\", \"water\", \"planet\", \"energy\", \"join\", \"fuel\", \"moon\", \"unknown\", \"solid\", \"canadian\", \"shuttle\", \"saturn\", \"daughter\", \"rock\", \"rocket\", \"nuclear\", \"probe\", \"lunar\", \"heat\", \"middle\", \"regularly\", \"space\", \"earth\", \"visit\", \"environment\", \"compare\", \"body\", \"black\", \"recommend\", \"doctor\", \"cd\", \"son\", \"night\", \"should\", \"gateway\", \"blank\", \"blind\", \"gain\", \"headache\", \"deserve\", \"cold\", \"usenet\", \"father\", \"bank\", \"shape\", \"depth\", \"danger\", \"hence\", \"compound\", \"diet\", \"restore\", \"severe\", \"translate\", \"subsequent\", \"variation\", \"special\", \"possibly\", \"picture\", \"hot\", \"industry\", \"patient\", \"reality\", \"university\", \"sorry\", \"choice\", \"route\", \"treat\", \"treatment\", \"disease\", \"bomb\", \"stupid\", \"link\", \"medical\", \"specify\", \"health\", \"universe\", \"insert\", \"guilty\", \"channel\", \"truck\", \"remote\", \"curious\", \"combine\", \"warn\", \"previously\", \"physician\", \"preach\", \"fee\", \"spread\", \"brave\", \"die\", \"description\", \"car\", \"engine\", \"notice\", \"external\", \"door\", \"ticket\", \"locate\", \"gear\", \"park\", \"conservative\", \"sensor\", \"amazing\", \"drive\", \"highway\", \"uunet\", \"production\", \"construction\", \"tail\", \"mileage\", \"turbo\", \"rom\", \"buying\", \"salesman\", \"recieve\", \"neighborhood\", \"driving\", \"narrow\", \"rip\", \"acceleration\", \"porsche\", \"mirror\", \"driver\", \"dealer\", \"vehicle\", \"speed\", \"buy\", \"road\", \"model\", \"mile\", \"price\", \"player\", \"season\", \"fan\", \"trade\", \"penguin\", \"implementation\", \"leafs\", \"captain\", \"flyer\", \"lose\", \"hockey\", \"dodger\", \"playoff\", \"streak\", \"cardinal\", \"ranger\", \"deadline\", \"cyt\", \"whaler\", \"king\", \"padre\", \"stripe\", \"traded_resigne\", \"jagr\", \"league\", \"cub\", \"cire\", \"title\", \"edmonton_oiler\", \"ball\", \"jet\", \"chance\", \"encryption\", \"animal\", \"privacy\", \"wiretap\", \"label\", \"fish\", \"ms_window\", \"negligent\", \"efficiently\", \"inherent\", \"encrypt\", \"clipper_chip\", \"ripem\", \"communication\", \"agency\", \"escrow_house\", \"administration\", \"di_di\", \"eff\", \"microcircuit\", \"abroad\", \"warrant\", \"initiative\", \"traffic\", \"pgp\", \"announcement\", \"protocol\", \"infrastructure\", \"cpsr\", \"edge_sword\", \"shield_criminal\", \"terrorist\", \"telephone\", \"valid\", \"relation\", \"reflect\", \"investigate\", \"dare\", \"suck\", \"approximately\", \"intense\", \"radius\", \"hm\", \"golden\", \"advertising\", \"perot\", \"retract\", \"dig\", \"tripe\", \"acvax\", \"pomona\", \"cvad\", \"lance\", \"macedonian\", \"horrify\", \"dist\", \"cpsr\", \"competing_rosicrucian\", \"upcome\", \"distsq\", \"cbd\", \"advertisement\", \"prominent\", \"maula\", \"logo\", \"winnipeg_jet\", \"firm\", \"restraint\", \"surveillance\", \"playoff\", \"egg\", \"tv\", \"participate\", \"accord\", \"slave\", \"represent\", \"hockey\", \"discuss\", \"motif\", \"own\", \"tip\", \"giant\", \"shaft\", \"accelerator\", \"commercial\", \"translation\", \"shift\", \"modifier\", \"suno\", \"downshifting\", \"divergence\", \"redistribute\", \"programmatic\", \"marketplace\", \"remeber\", \"pertain\", \"recovery\", \"ie\", \"pm\", \"senior\", \"virtually\", \"prevalence\", \"multi\", \"menu\", \"bond\", \"devguide\", \"override\", \"distribute\", \"implement\", \"announcement\", \"recent\"], \"Total\": [15754.0, 16073.0, 4605.0, 13331.0, 2799.0, 2512.0, 7489.0, 2369.0, 8600.0, 4467.0, 2578.0, 5819.0, 2804.0, 8562.0, 4018.0, 8459.0, 2651.0, 3189.0, 1893.0, 3192.0, 4867.0, 1642.0, 4183.0, 7510.0, 2095.0, 1729.0, 1918.0, 7519.0, 3122.0, 2107.0, 16073.2783203125, 13331.2978515625, 8562.423828125, 8459.673828125, 7510.74609375, 3786.0849609375, 2962.101318359375, 2792.521728515625, 2111.392822265625, 2001.274658203125, 1890.7786865234375, 1868.8927001953125, 1696.5467529296875, 1513.6722412109375, 1489.54638671875, 1415.61474609375, 1349.4700927734375, 1254.0498046875, 1201.7994384765625, 1089.732666015625, 1081.8436279296875, 1038.98828125, 989.1676025390625, 927.9718627929688, 922.8138427734375, 916.4677734375, 876.717529296875, 815.2538452148438, 802.5982055664062, 778.2191162109375, 7519.23291015625, 5021.6455078125, 4174.05322265625, 6074.47509765625, 2033.9561767578125, 3837.404541015625, 1808.5556640625, 1638.3621826171875, 3611.92236328125, 2581.4501953125, 5836.6591796875, 4469.3330078125, 3192.43603515625, 7443.583984375, 4103.58984375, 3014.77587890625, 4473.41015625, 7922.119140625, 7143.23046875, 2611.86328125, 15754.6640625, 4602.474609375, 3943.16748046875, 6267.419921875, 4558.99462890625, 3838.643798828125, 4026.842529296875, 8600.892578125, 3954.79443359375, 7381.08251953125, 2823.2822265625, 2030.482421875, 1896.6053466796875, 1738.8746337890625, 1570.955322265625, 1419.10595703125, 1006.516845703125, 986.0691528320312, 957.4258422851562, 779.6962280273438, 715.4044189453125, 694.2760009765625, 679.2333374023438, 660.8883666992188, 659.77783203125, 638.7177124023438, 626.233642578125, 593.2470092773438, 557.245849609375, 553.2339477539062, 531.1884155273438, 485.9275207519531, 457.99114990234375, 456.7973937988281, 447.9681091308594, 435.32684326171875, 424.3636474609375, 418.69635009765625, 390.1280517578125, 377.6023254394531, 2146.692626953125, 1245.0860595703125, 1274.6197509765625, 1669.7042236328125, 585.5400390625, 3329.39990234375, 7489.64599609375, 1096.128173828125, 1064.796875, 3192.556640625, 1762.989013671875, 1486.63134765625, 2251.733642578125, 8600.892578125, 2438.134521484375, 1644.2408447265625, 2746.086669921875, 1606.528564453125, 3875.043212890625, 967.34814453125, 1293.0228271484375, 7381.08251953125, 2103.51904296875, 2259.85107421875, 2169.510009765625, 1615.46435546875, 1355.073974609375, 952.8189697265625, 931.8421630859375, 895.6674194335938, 881.7882080078125, 822.9188232421875, 642.9322509765625, 627.7322387695312, 617.7811889648438, 573.319091796875, 569.6098022460938, 521.9310913085938, 486.9777526855469, 459.7032470703125, 445.2162780761719, 428.9212951660156, 423.9573059082031, 413.34259033203125, 403.46246337890625, 393.5752868652344, 379.7386169433594, 373.8503112792969, 365.6937561035156, 351.96636962890625, 344.2259521484375, 321.4186706542969, 316.8915710449219, 313.0692443847656, 1170.2039794921875, 680.4310913085938, 3122.06396484375, 523.6423950195312, 1908.8714599609375, 479.33013916015625, 1818.1995849609375, 706.651611328125, 2423.186279296875, 1282.637939453125, 1280.45556640625, 1058.5313720703125, 1021.1068115234375, 595.50927734375, 1006.0736083984375, 1623.141845703125, 1972.825927734375, 3382.947021484375, 1592.863037109375, 2067.662841796875, 5833.83642578125, 7381.08251953125, 2602.203125, 1408.7354736328125, 2289.721435546875, 1008.4839477539062, 1514.0484619140625, 4605.947265625, 2062.05810546875, 1301.2366943359375, 849.8616943359375, 843.6123046875, 755.0325927734375, 627.8536987304688, 615.3604736328125, 525.2266845703125, 494.8818664550781, 456.9608459472656, 450.5415344238281, 419.37603759765625, 418.2472839355469, 402.1451721191406, 381.54986572265625, 364.8445129394531, 360.2147521972656, 348.93157958984375, 344.39678955078125, 342.2721862792969, 339.4112243652344, 338.1292419433594, 334.1647644042969, 322.1465759277344, 316.3382263183594, 315.70458984375, 298.0437927246094, 296.1821594238281, 293.91046142578125, 292.2667541503906, 291.9432678222656, 893.6681518554688, 761.6897583007812, 1819.661376953125, 4018.861083984375, 502.04705810546875, 975.79931640625, 1672.248291015625, 547.0484619140625, 1617.3369140625, 455.4066162109375, 872.6641845703125, 528.6163940429688, 682.9796752929688, 860.907958984375, 486.2293395996094, 798.10302734375, 568.0296630859375, 872.3818359375, 2035.744384765625, 1276.184814453125, 1277.67626953125, 2462.19970703125, 1134.14599609375, 2166.939453125, 791.1249389648438, 2067.662841796875, 1183.9154052734375, 1054.22314453125, 1028.9381103515625, 3652.377197265625, 6267.419921875, 1201.0078125, 1514.70556640625, 2049.69384765625, 4496.07861328125, 3189.04052734375, 2221.346435546875, 1589.6265869140625, 1443.6881103515625, 1171.910400390625, 1102.68505859375, 994.61572265625, 834.8970336914062, 767.311767578125, 755.4614868164062, 719.25634765625, 708.8003540039062, 660.6810302734375, 653.1978149414062, 610.464599609375, 607.3551025390625, 601.4236450195312, 587.7880249023438, 537.9449462890625, 502.7124328613281, 467.6145935058594, 442.98236083984375, 426.9512634277344, 378.4354553222656, 375.33660888671875, 370.4635314941406, 326.7108154296875, 314.47265625, 312.0604248046875, 293.7661437988281, 1008.4266357421875, 1342.8306884765625, 1127.8284912109375, 1284.902587890625, 4467.390625, 5819.19384765625, 1682.9700927734375, 799.693603515625, 1285.6136474609375, 1672.3343505859375, 4183.29833984375, 2908.543212890625, 2776.728759765625, 15754.6640625, 4867.00048828125, 1059.8597412109375, 1591.6192626953125, 2062.05810546875, 4496.07861328125, 3382.947021484375, 876.2843017578125, 1436.188720703125, 2651.371337890625, 2107.939697265625, 1464.83203125, 1422.048095703125, 919.2774658203125, 703.2659912109375, 690.335693359375, 662.7904052734375, 661.9014282226562, 638.9212646484375, 590.3825073242188, 576.8246459960938, 564.9353637695312, 501.8324279785156, 501.1939392089844, 464.27691650390625, 443.93695068359375, 430.7734680175781, 424.2596435546875, 393.6620788574219, 388.517822265625, 388.10211181640625, 379.4509582519531, 371.0927429199219, 364.98919677734375, 361.4527587890625, 358.600830078125, 345.3004455566406, 344.9364318847656, 340.95245361328125, 443.0017395019531, 862.5220947265625, 1613.3167724609375, 387.4412536621094, 525.4800415039062, 2438.134521484375, 3531.447021484375, 795.9710083007812, 559.0711059570312, 1122.334228515625, 905.2433471679688, 1762.989013671875, 1337.6978759765625, 1144.9786376953125, 900.7908325195312, 799.2725830078125, 731.1376342773438, 670.9298095703125, 631.3074340820312, 561.7064208984375, 501.9948425292969, 501.88958740234375, 463.6491394042969, 462.6021728515625, 443.23486328125, 441.50933837890625, 391.30413818359375, 349.4759216308594, 347.51763916015625, 326.4449462890625, 324.735107421875, 458.3004150390625, 314.1916198730469, 294.9559326171875, 285.3460998535156, 281.3267822265625, 279.5824279785156, 251.91778564453125, 232.52601623535156, 223.3994140625, 217.37387084960938, 213.11314392089844, 337.4704284667969, 786.9103393554688, 296.333740234375, 848.0746459960938, 1195.379150390625, 834.27783203125, 952.846435546875, 918.2760620117188, 839.1774291992188, 4467.390625, 1514.70556640625, 2663.11376953125, 5819.19384765625, 2578.651611328125, 2095.571044921875, 1212.8603515625, 1083.8372802734375, 1033.1683349609375, 810.9906616210938, 780.76220703125, 759.56640625, 677.4598999023438, 543.420166015625, 489.57427978515625, 421.3988952636719, 278.2894287109375, 277.7658996582031, 257.9436340332031, 977.1508178710938, 228.91461181640625, 222.35499572753906, 206.2879180908203, 200.93740844726562, 186.3815460205078, 183.27391052246094, 156.47064208984375, 139.2496337890625, 121.4803466796875, 121.06289672851562, 106.23445892333984, 92.294677734375, 91.58841705322266, 91.03811645507812, 728.8107299804688, 1112.075927734375, 800.904052734375, 2804.042236328125, 517.6237182617188, 2022.150634765625, 739.01904296875, 839.1774291992188, 553.9905395507812, 660.3928833007812, 1812.3433837890625, 4018.861083984375, 2259.85107421875, 1028.013427734375, 1278.6282958984375, 747.0528564453125, 725.3359375, 598.5315551757812, 513.847900390625, 493.40155029296875, 483.3172912597656, 470.47845458984375, 406.87542724609375, 377.91912841796875, 374.46063232421875, 306.101806640625, 301.6363525390625, 289.4074401855469, 266.91070556640625, 237.88778686523438, 233.21934509277344, 187.15965270996094, 185.13565063476562, 178.72242736816406, 165.78611755371094, 165.75013732910156, 160.2052001953125, 149.2281036376953, 129.50514221191406, 108.53976440429688, 103.06746673583984, 102.53453826904297, 101.05621337890625, 83.99055480957031, 362.399658203125, 772.6275634765625, 1918.0802001953125, 644.82421875, 468.66668701171875, 769.99853515625, 1682.9700927734375, 498.102294921875, 1008.4839477539062, 734.6250610351562, 1893.9783935546875, 1729.9384765625, 1314.7518310546875, 1221.099609375, 530.66455078125, 486.1624450683594, 460.2413330078125, 340.8646240234375, 302.6039733886719, 218.2281494140625, 213.64007568359375, 174.81570434570312, 167.45750427246094, 165.64132690429688, 151.04620361328125, 133.49586486816406, 121.76315307617188, 105.5476303100586, 100.51988983154297, 88.17289733886719, 85.97022247314453, 76.37960052490234, 68.35829162597656, 64.65316009521484, 60.59628677368164, 58.09574890136719, 56.802452087402344, 55.8326416015625, 54.11051940917969, 51.52626419067383, 285.1695556640625, 4605.947265625, 440.7354431152344, 638.5958251953125, 2908.543212890625, 480.26971435546875, 2167.8544921875, 332.65667724609375, 3652.377197265625, 495.9163818359375, 1617.5006103515625, 1276.184814453125, 1099.2923583984375, 820.9876098632812, 787.9967041015625, 673.6396484375, 648.8797607421875, 492.095947265625, 404.182373046875, 350.06427001953125, 287.2513122558594, 258.73199462890625, 233.68128967285156, 217.11045837402344, 211.13247680664062, 207.43804931640625, 178.6422576904297, 177.0245361328125, 143.09886169433594, 138.81884765625, 133.20887756347656, 122.73960876464844, 119.19871520996094, 114.42919921875, 101.36353302001953, 90.17416381835938, 79.87567138671875, 78.92646026611328, 78.84626770019531, 75.27222442626953, 74.80929565429688, 70.95134735107422, 256.65826416015625, 883.6025390625, 1368.0301513671875, 403.5195007324219, 514.1419067382812, 181.8258056640625, 952.846435546875, 3192.556640625, 1363.6766357421875, 1075.9564208984375, 1259.5806884765625, 2799.082763671875, 2369.69189453125, 793.8048706054688, 560.6012573242188, 549.9388427734375, 424.1043395996094, 275.951416015625, 238.75526428222656, 209.98439025878906, 175.9835968017578, 173.18521118164062, 162.3260040283203, 158.236328125, 143.3400421142578, 128.65769958496094, 127.99726104736328, 121.34768676757812, 92.16587829589844, 83.33853149414062, 81.81356811523438, 81.81356811523438, 81.81356811523438, 79.62166595458984, 77.38322448730469, 64.84288024902344, 53.26730728149414, 49.57350540161133, 45.93351745605469, 44.51566696166992, 40.03181076049805, 163.44300842285156, 223.8355255126953, 187.77308654785156, 176.96051025390625, 470.23101806640625, 511.07037353515625, 428.73345947265625, 363.0892639160156, 332.4114990234375, 322.94573974609375, 290.779052734375, 275.691650390625, 257.56427001953125, 257.33197021484375, 242.85755920410156, 216.06036376953125, 209.70040893554688, 208.6456756591797, 200.2395782470703, 195.08778381347656, 182.6483917236328, 177.53062438964844, 176.53567504882812, 170.65272521972656, 170.02464294433594, 168.36517333984375, 164.76736450195312, 160.9772186279297, 159.55149841308594, 155.52561950683594, 148.94778442382812, 141.19131469726562, 140.1739959716797, 139.08148193359375, 138.54721069335938, 1270.303955078125, 543.0614624023438, 425.15936279296875, 342.96966552734375, 710.6222534179688, 668.3839111328125, 646.1864013671875, 389.51470947265625, 346.39556884765625, 340.21502685546875, 319.86138916015625, 292.5181884765625, 292.3371887207031, 277.3354187011719, 269.7297668457031, 239.842041015625, 238.9617462158203, 234.84791564941406, 210.7189178466797, 196.1053924560547, 193.4021759033203, 169.66201782226562, 145.4178466796875, 144.71778869628906, 133.68685913085938, 125.13250732421875, 114.21973419189453, 112.80925750732422, 112.27303314208984, 106.3426284790039, 103.1241683959961, 98.93814849853516, 86.60804748535156, 85.7905502319336, 438.035888671875, 406.6422119140625, 502.02911376953125, 321.7716369628906, 289.9409484863281, 750.997314453125, 511.84869384765625, 481.6585388183594, 468.7653503417969, 386.1865234375, 381.916015625, 362.7582702636719, 356.4073791503906, 344.4919128417969, 343.5378723144531, 286.1455993652344, 258.56744384765625, 223.47007751464844, 210.1575927734375, 196.1599578857422, 164.89703369140625, 163.6583709716797, 146.0059356689453, 143.25228881835938, 142.57826232910156, 135.73818969726562, 131.19578552246094, 128.64210510253906, 127.33940887451172, 124.11968231201172, 117.5948257446289, 115.27873229980469, 111.6707763671875, 107.83466339111328, 107.20616149902344, 890.180419921875, 236.9231414794922, 1642.37939453125, 449.3202209472656, 424.43890380859375, 323.0634765625, 237.9436798095703, 189.56996154785156, 131.2738494873047, 120.75237274169922, 98.82776641845703, 92.23030090332031, 89.9046630859375, 86.45206451416016, 2512.4189453125, 73.83446502685547, 71.93978881835938, 67.84349822998047, 65.1945571899414, 60.041053771972656, 59.36124801635742, 57.929927825927734, 52.39431381225586, 47.808197021484375, 46.53091049194336, 46.09773635864258, 44.617889404296875, 41.808589935302734, 39.780582427978516, 35.91844177246094, 32.93861770629883, 29.934324264526367, 200.24171447753906, 1195.353515625, 323.85675048828125, 283.47314453125, 772.6275634765625, 1591.6192626953125, 470.23101806640625, 828.4029541015625, 313.2235412597656, 1342.8306884765625, 684.72998046875, 447.41326904296875, 402.0936279296875, 318.62701416015625, 115.73886108398438, 112.39104461669922, 92.0489730834961, 66.86202239990234, 61.764190673828125, 1177.4715576171875, 1.1865553855895996, 1.1864603757858276, 1.186521291732788, 1.1864570379257202, 1.1864516735076904, 1.1864718198776245, 1.1864489316940308, 1.1864469051361084, 1.1864526271820068, 1.1864820718765259, 1.1864488124847412, 1.1864471435546875, 1.186445951461792, 1.1864584684371948, 1.1864675283432007, 1.1864629983901978, 1.1864442825317383, 1.186496376991272, 1.1864444017410278, 1.1864721775054932, 1.1864665746688843, 1.1865346431732178, 414.49920654296875, 196.75538635253906, 119.92813110351562, 66.6646499633789, 63.48014831542969, 55.55097579956055, 12.619674682617188, 10.555472373962402, 7.7755231857299805, 41.17888641357422, 1.1865415573120117, 1.1864830255508423, 1.1865599155426025, 1.1865030527114868, 1.1865025758743286, 1.1864532232284546, 1.18646240234375, 1.1865118741989136, 1.186444878578186, 1.186445713043213, 1.1864458322525024, 1.1864629983901978, 1.1864527463912964, 1.186479091644287, 1.1864864826202393, 1.1865004301071167, 1.1864700317382812, 1.1864510774612427, 1.1864639520645142, 1.1864423751831055, 1.1864423751831055, 1.1865129470825195, 1.186482310295105, 1.1865676641464233, 52.70989227294922, 46.45248031616211, 43.65180969238281, 34.50014114379883, 33.01787567138672, 23.574771881103516, 13.447946548461914, 7.678791522979736, 5.634249210357666, 3.6298539638519287, 1.18647038936615, 1.1864413022994995, 1.1864445209503174, 1.1864515542984009, 1.1864423751831055, 1.1864399909973145, 1.1864399909973145, 1.1864399909973145, 1.1864404678344727, 1.18645179271698, 1.1864407062530518, 1.1864439249038696, 1.1864639520645142, 1.1864405870437622, 1.1864463090896606, 1.1864426136016846, 1.1864441633224487, 1.186450719833374, 1.1864479780197144, 1.1864396333694458, 1.1864572763442993, 1.186448097229004, 1.1864739656448364, 1.1864882707595825, 1.1864780187606812, 1.186521291732788, 1.1864858865737915, 1.1865018606185913, 1.1864713430404663, 1.1865428686141968, 1.1866322755813599, 1.1864891052246094, 1.1865553855895996, 1.1865116357803345, 117.7376937866211, 49.503578186035156, 34.199344635009766, 27.720630645751953, 16.472946166992188, 1.1864752769470215, 1.1864969730377197, 1.186489462852478, 1.1864725351333618, 1.1864479780197144, 1.1864432096481323, 1.1864488124847412, 1.18644118309021, 1.186442255973816, 1.1864410638809204, 1.186442494392395, 1.1864426136016846, 1.186445951461792, 1.1864467859268188, 1.186447024345398, 1.1864452362060547, 1.1864516735076904, 1.186452031135559, 1.1864564418792725, 1.1864625215530396, 1.186455249786377, 1.1864463090896606, 1.186446189880371, 1.186445713043213, 1.1864725351333618, 1.186490535736084, 1.1865004301071167, 1.1864984035491943], \"loglift\": [30.0, 29.0, 28.0, 27.0, 26.0, 25.0, 24.0, 23.0, 22.0, 21.0, 20.0, 19.0, 18.0, 17.0, 16.0, 15.0, 14.0, 13.0, 12.0, 11.0, 10.0, 9.0, 8.0, 7.0, 6.0, 5.0, 4.0, 3.0, 2.0, 1.0, 0.9961000084877014, 0.9959999918937683, 0.9959999918937683, 0.9959999918937683, 0.9959999918937683, 0.9958000183105469, 0.9957000017166138, 0.9957000017166138, 0.9955999851226807, 0.9955999851226807, 0.9955000281333923, 0.9955000281333923, 0.9955000281333923, 0.9954000115394592, 0.9954000115394592, 0.9952999949455261, 0.9952999949455261, 0.995199978351593, 0.995199978351593, 0.9951000213623047, 0.9951000213623047, 0.9950000047683716, 0.9950000047683716, 0.9948999881744385, 0.9948999881744385, 0.9948999881744385, 0.9947999715805054, 0.9947999715805054, 0.994700014591217, 0.994700014591217, 0.9914000034332275, 0.9945999979972839, 0.9919999837875366, 0.988099992275238, 0.993399977684021, 0.9850999712944031, 0.991599977016449, 0.9923999905586243, 0.9807999730110168, 0.9836999773979187, 0.9664000272750854, 0.9656999707221985, 0.967199981212616, 0.9180999994277954, 0.9455000162124634, 0.9595999717712402, 0.9217000007629395, 0.8511999845504761, 0.8490999937057495, 0.942300021648407, 0.6571000218391418, 0.8425999879837036, 0.8596000075340271, 0.746999979019165, 0.8119999766349792, 0.8075000047683716, 0.7878999710083008, 0.44110000133514404, 0.758400022983551, 0.2639000117778778, 2.0771000385284424, 2.0769999027252197, 2.076900005340576, 2.076900005340576, 2.0768001079559326, 2.07669997215271, 2.0764000415802, 2.0764000415802, 2.0762999057769775, 2.0761001110076904, 2.0759999752044678, 2.075900077819824, 2.075900077819824, 2.0757999420166016, 2.0757999420166016, 2.0757999420166016, 2.075700044631958, 2.0755999088287354, 2.075500011444092, 2.075500011444092, 2.0754001140594482, 2.075200080871582, 2.0750999450683594, 2.0750999450683594, 2.075000047683716, 2.074899911880493, 2.074899911880493, 2.0748000144958496, 2.0745999813079834, 2.07450008392334, 2.0620999336242676, 2.0508999824523926, 2.0415000915527344, 2.026900053024292, 2.058500051498413, 1.9510999917984009, 1.7731000185012817, 1.9661999940872192, 1.9429999589920044, 1.7396999597549438, 1.7950999736785889, 1.8343000411987305, 1.6995999813079834, 1.2237999439239502, 1.6227999925613403, 1.7301000356674194, 1.53410005569458, 1.7055000066757202, 1.2077000141143799, 1.8918999433517456, 1.7131999731063843, 0.5378000140190125, 1.343400001525879, 1.2347999811172485, 2.2320001125335693, 2.2318999767303467, 2.2316999435424805, 2.2314000129699707, 2.2314000129699707, 2.231300115585327, 2.231300115585327, 2.2311999797821045, 2.230799913406372, 2.230799913406372, 2.2307000160217285, 2.230600118637085, 2.230600118637085, 2.2304000854492188, 2.230299949645996, 2.23009991645813, 2.23009991645813, 2.2300000190734863, 2.2298998832702637, 2.2298998832702637, 2.22979998588562, 2.2297000885009766, 2.229599952697754, 2.229599952697754, 2.2295000553131104, 2.2293999195098877, 2.229300022125244, 2.229099988937378, 2.2290000915527344, 2.2290000915527344, 2.227299928665161, 2.2144999504089355, 2.1767001152038574, 2.214200019836426, 2.1152000427246094, 2.210700035095215, 2.1142001152038574, 2.1726999282836914, 2.040800094604492, 2.109499931335449, 2.100100040435791, 2.1212000846862793, 2.1245999336242676, 2.1851000785827637, 2.0864999294281006, 1.9957000017166138, 1.938099980354309, 1.6930999755859375, 1.8330999612808228, 1.68340003490448, 1.2556999921798706, 1.0436999797821045, 1.4895000457763672, 1.8037999868392944, 1.4667999744415283, 1.9469000101089478, 1.6547000408172607, 0.8065000176429749, 1.4048000574111938, 2.4693000316619873, 2.468899965286255, 2.468899965286255, 2.4686999320983887, 2.468400001525879, 2.468400001525879, 2.468100070953369, 2.467900037765503, 2.4677999019622803, 2.4677000045776367, 2.4674999713897705, 2.4674999713897705, 2.467400074005127, 2.4672999382019043, 2.467099905014038, 2.467099905014038, 2.4670000076293945, 2.4670000076293945, 2.466900110244751, 2.466900110244751, 2.466900110244751, 2.466900110244751, 2.4667000770568848, 2.4667000770568848, 2.4667000770568848, 2.4665000438690186, 2.466399908065796, 2.466399908065796, 2.466399908065796, 2.466399908065796, 2.4551000595092773, 2.451900005340576, 2.4205000400543213, 2.341099977493286, 2.4446001052856445, 2.4102001190185547, 2.357599973678589, 2.428499937057495, 2.3340001106262207, 2.4419000148773193, 2.363800048828125, 2.4149999618530273, 2.350600004196167, 2.2864999771118164, 2.3968000411987305, 2.268899917602539, 2.33270001411438, 2.1865999698638916, 1.811900019645691, 1.993399977684021, 1.9747999906539917, 1.6469000577926636, 1.9837000370025635, 1.6017999649047852, 2.1354000568389893, 1.5111000537872314, 1.8691999912261963, 1.9306000471115112, 1.9458999633789062, 1.0181000232696533, 0.5552999973297119, 1.8228000402450562, 1.6002999544143677, 1.311900019645691, 0.5647000074386597, 2.495699882507324, 2.495500087738037, 2.495300054550171, 2.495300054550171, 2.4951000213623047, 2.494999885559082, 2.4948999881744385, 2.4946999549865723, 2.4946000576019287, 2.4946000576019287, 2.494499921798706, 2.494499921798706, 2.4944000244140625, 2.49429988861084, 2.4941999912261963, 2.4941999912261963, 2.4941999912261963, 2.4941000938415527, 2.49399995803833, 2.493799924850464, 2.4937000274658203, 2.493499994277954, 2.4934000968933105, 2.4930999279022217, 2.4930999279022217, 2.493000030517578, 2.4925999641418457, 2.492500066757202, 2.492500066757202, 2.4921998977661133, 2.448899984359741, 2.4163999557495117, 2.4082999229431152, 2.3815999031066895, 2.2351999282836914, 2.1487998962402344, 2.2755000591278076, 2.377500057220459, 2.282099962234497, 2.173099994659424, 1.9199999570846558, 1.976199984550476, 1.9420000314712524, 1.249500036239624, 1.652400016784668, 2.242300033569336, 2.0481998920440674, 1.8746999502182007, 1.1692999601364136, 1.2741999626159668, 2.302500009536743, 1.812600016593933, 3.0325000286102295, 3.032399892807007, 3.0322000980377197, 3.0322000980377197, 3.0318000316619873, 3.031399965286255, 3.0313000679016113, 3.0313000679016113, 3.0313000679016113, 3.0311999320983887, 3.031100034713745, 3.0309998989105225, 3.0309998989105225, 3.0306999683380127, 3.0306999683380127, 3.030600070953369, 3.030400037765503, 3.030400037765503, 3.0302999019622803, 3.030100107192993, 3.030100107192993, 3.030100107192993, 3.0299999713897705, 3.0299999713897705, 3.029900074005127, 3.029900074005127, 3.0297999382019043, 3.0297000408172607, 3.0297000408172607, 3.0297000408172607, 3.017199993133545, 2.9798998832702637, 2.9244000911712646, 3.003499984741211, 2.884000062942505, 1.8839000463485718, 1.6346999406814575, 2.5088999271392822, 2.716399908065796, 2.091200113296509, 2.2685000896453857, 1.6282999515533447, 3.262700080871582, 3.2625999450683594, 3.2623000144958496, 3.2620999813079834, 3.26200008392334, 3.261899948120117, 3.2618000507354736, 3.2614998817443848, 3.2613000869750977, 3.2613000869750977, 3.2611000537872314, 3.2611000537872314, 3.260999917984009, 3.260999917984009, 3.260699987411499, 3.2602999210357666, 3.2602999210357666, 3.2600998878479004, 3.2600998878479004, 3.259999990463257, 3.259999990463257, 3.259700059890747, 3.2595999240875244, 3.2595999240875244, 3.259500026702881, 3.2590999603271484, 3.258699893951416, 3.258500099182129, 3.2583999633789062, 3.2583000659942627, 3.2560999393463135, 3.2460999488830566, 3.2527999877929688, 3.2004001140594482, 3.138700008392334, 3.0852999687194824, 2.9744999408721924, 2.8531999588012695, 2.7618000507354736, 1.7788000106811523, 2.270900011062622, 1.8574999570846558, 0.8816999793052673, 3.452699899673462, 3.4526000022888184, 3.452199935913086, 3.4521000385284424, 3.4519999027252197, 3.45169997215271, 3.45169997215271, 3.4516000747680664, 3.4514000415802, 3.4509999752044678, 3.4507999420166016, 3.450500011444092, 3.4491000175476074, 3.4491000175476074, 3.4488000869750977, 3.4482998847961426, 3.448199987411499, 3.4481000900268555, 3.447700023651123, 3.447499990463257, 3.4470999240875244, 3.447000026702881, 3.446000099182129, 3.4451000690460205, 3.4439001083374023, 3.4439001083374023, 3.4426000118255615, 3.440999984741211, 3.4409000873565674, 3.4407999515533447, 3.4210000038146973, 3.412899971008301, 3.359600067138672, 3.119999885559082, 3.1115000247955322, 2.511899948120117, 2.6975998878479004, 2.51990008354187, 2.7458999156951904, 2.5539000034332275, 1.8176000118255615, 1.139799952507019, 1.5198999643325806, 2.150599956512451, 4.081099987030029, 4.080399990081787, 4.080399990081787, 4.080100059509277, 4.079699993133545, 4.079699993133545, 4.079599857330322, 4.079500198364258, 4.07919979095459, 4.078999996185303, 4.07889986038208, 4.0782999992370605, 4.078199863433838, 4.078000068664551, 4.077700138092041, 4.077199935913086, 4.077099800109863, 4.075900077819824, 4.075799942016602, 4.0756001472473145, 4.075099945068359, 4.075099945068359, 4.074900150299072, 4.074399948120117, 4.073200225830078, 4.071499824523926, 4.071000099182129, 4.070899963378906, 4.070700168609619, 4.06850004196167, 3.888200044631958, 3.7781999111175537, 3.5153000354766846, 3.46370005607605, 3.4739999771118164, 3.261399984359741, 2.458899974822998, 3.226799964904785, 2.6854000091552734, 2.7558999061584473, 4.139999866485596, 4.139900207519531, 4.139699935913086, 4.139699935913086, 4.138500213623047, 4.138299942016602, 4.1381001472473145, 4.13730001449585, 4.136899948120117, 4.13539981842041, 4.135300159454346, 4.134099960327148, 4.133900165557861, 4.133800029754639, 4.1331000328063965, 4.1321001052856445, 4.13129997253418, 4.129899978637695, 4.129300117492676, 4.127699851989746, 4.127399921417236, 4.125699996948242, 4.124000072479248, 4.123000144958496, 4.121799945831299, 4.120999813079834, 4.12060022354126, 4.120200157165527, 4.11959981918335, 4.118500232696533, 3.588599920272827, 2.674999952316284, 3.285599946975708, 3.111599922180176, 2.261899948120117, 3.1168999671936035, 2.1582999229431152, 3.1861000061035156, 1.4873000383377075, 2.7748000621795654, 1.844599962234497, 1.8436000347137451, 4.323800086975098, 4.323500156402588, 4.323400020599365, 4.323200225830078, 4.3231000900268555, 4.3225998878479, 4.3221001625061035, 4.321599960327148, 4.320899963378906, 4.320499897003174, 4.320000171661377, 4.3196001052856445, 4.319499969482422, 4.319399833679199, 4.31850004196167, 4.318399906158447, 4.31689977645874, 4.316699981689453, 4.316299915313721, 4.3155999183654785, 4.315299987792969, 4.314899921417236, 4.313600063323975, 4.31220006942749, 4.310500144958496, 4.310400009155273, 4.310400009155273, 4.309700012207031, 4.309599876403809, 4.308700084686279, 4.246300220489502, 3.7493999004364014, 3.5571999549865723, 3.7014000415802, 3.5397000312805176, 3.9509999752044678, 2.938199996948242, 2.0297000408172607, 2.546099901199341, 2.3598999977111816, 2.057800054550171, 4.326900005340576, 4.3267998695373535, 4.325900077819824, 4.325300216674805, 4.325300216674805, 4.324699878692627, 4.323299884796143, 4.322700023651123, 4.3221001625061035, 4.321100234985352, 4.321000099182129, 4.320499897003174, 4.320400238037109, 4.3196001052856445, 4.31879997253418, 4.318699836730957, 4.318299770355225, 4.315400123596191, 4.3140997886657715, 4.313899993896484, 4.313899993896484, 4.313899993896484, 4.313499927520752, 4.3130998611450195, 4.310299873352051, 4.306600093841553, 4.304999828338623, 4.303199768066406, 4.302499771118164, 4.299600124359131, 4.123600006103516, 3.791100025177002, 3.3684000968933105, 3.3745999336242676, 2.561500072479248, 4.337299823760986, 4.336900234222412, 4.336400032043457, 4.336100101470947, 4.335999965667725, 4.335599899291992, 4.335400104522705, 4.335100173950195, 4.335100173950195, 4.33489990234375, 4.3343000411987305, 4.334099769592285, 4.334099769592285, 4.333899974822998, 4.333700180053711, 4.3333001136779785, 4.333099842071533, 4.333099842071533, 4.332900047302246, 4.332900047302246, 4.332799911499023, 4.332699775695801, 4.332499980926514, 4.332399845123291, 4.332200050354004, 4.331900119781494, 4.331500053405762, 4.331399917602539, 4.331399917602539, 4.331399917602539, 4.26039981842041, 3.9231998920440674, 3.313999891281128, 3.5002999305725098, 4.460000038146973, 4.45989990234375, 4.459799766540527, 4.458700180053711, 4.4583001136779785, 4.4583001136779785, 4.458099842071533, 4.457699775695801, 4.457699775695801, 4.457499980926514, 4.457399845123291, 4.456900119781494, 4.456900119781494, 4.4567999839782715, 4.456200122833252, 4.4558000564575195, 4.455699920654297, 4.454899787902832, 4.453800201416016, 4.453800201416016, 4.453100204467773, 4.452600002288818, 4.451700210571289, 4.451600074768066, 4.451499938964844, 4.450900077819824, 4.4506001472473145, 4.450200080871582, 4.448500156402588, 4.448400020599365, 4.391499996185303, 4.28380012512207, 4.209499835968018, 4.209700107574463, 4.213200092315674, 4.479800224304199, 4.479100227355957, 4.479000091552734, 4.478899955749512, 4.478400230407715, 4.478400230407715, 4.4781999588012695, 4.478099822998047, 4.478000164031982, 4.478000164031982, 4.477399826049805, 4.476900100708008, 4.47629976272583, 4.475900173187256, 4.475599765777588, 4.4745001792907715, 4.474400043487549, 4.473599910736084, 4.473400115966797, 4.473400115966797, 4.4730000495910645, 4.472700119018555, 4.472499847412109, 4.472400188446045, 4.4721999168396, 4.471700191497803, 4.471499919891357, 4.471199989318848, 4.470799922943115, 4.470699787139893, 4.282899856567383, 4.3653998374938965, 4.567500114440918, 4.565700054168701, 4.565499782562256, 4.564700126647949, 4.563399791717529, 4.56220006942749, 4.559500217437744, 4.558800220489502, 4.556700229644775, 4.5559000968933105, 4.555500030517578, 4.554999828338623, 4.553999900817871, 4.552800178527832, 4.5524001121521, 4.551400184631348, 4.5507001876831055, 4.549200057983398, 4.548999786376953, 4.548500061035156, 4.54640007019043, 4.544300079345703, 4.543600082397461, 4.543399810791016, 4.542500019073486, 4.540800094604492, 4.539400100708008, 4.536200046539307, 4.533299922943115, 4.529699802398682, 4.383699893951416, 4.160099983215332, 4.121200084686279, 4.13640022277832, 3.223400115966797, 2.529900074005127, 3.1909000873565674, 2.5917000770568848, 3.2049999237060547, 1.9884999990463257, 5.611299991607666, 5.610400199890137, 5.610099792480469, 5.609399795532227, 5.603000164031982, 5.602700233459473, 5.600500106811523, 5.595699787139893, 5.594299793243408, 3.4321999549865723, 2.297300100326538, 2.2971999645233154, 2.2971999645233154, 2.2971999645233154, 2.297100067138672, 2.297100067138672, 2.297100067138672, 2.297100067138672, 2.297100067138672, 2.297100067138672, 2.297100067138672, 2.297100067138672, 2.297100067138672, 2.297100067138672, 2.297100067138672, 2.297100067138672, 2.297100067138672, 2.297100067138672, 2.297100067138672, 2.297100067138672, 2.297100067138672, 2.296999931335449, 6.13670015335083, 6.133600234985352, 6.129799842834473, 6.122000217437744, 6.121200084686279, 6.118500232696533, 6.044000148773193, 6.024199962615967, 5.979499816894531, 5.421800136566162, 2.6847000122070312, 2.6847000122070312, 2.6846001148223877, 2.6846001148223877, 2.6846001148223877, 2.6846001148223877, 2.6846001148223877, 2.684499979019165, 2.684499979019165, 2.684499979019165, 2.684499979019165, 2.684499979019165, 2.684499979019165, 2.684499979019165, 2.684499979019165, 2.684499979019165, 2.684499979019165, 2.684499979019165, 2.684499979019165, 2.684499979019165, 2.684499979019165, 2.684499979019165, 2.684499979019165, 2.684499979019165, 6.938799858093262, 6.935699939727783, 6.934000015258789, 6.926700115203857, 6.92519998550415, 6.910399913787842, 6.8703999519348145, 6.796500205993652, 6.729300022125244, 6.573800086975098, 2.91510009765625, 2.91510009765625, 2.91510009765625, 2.91510009765625, 2.91510009765625, 2.91510009765625, 2.91510009765625, 2.91510009765625, 2.91510009765625, 2.91510009765625, 2.91510009765625, 2.91510009765625, 2.91510009765625, 2.91510009765625, 2.91510009765625, 2.91510009765625, 2.91510009765625, 2.91510009765625, 2.91510009765625, 2.91510009765625, 2.9149999618530273, 2.9149999618530273, 2.9149999618530273, 2.9149999618530273, 2.9149999618530273, 2.9149999618530273, 2.9149999618530273, 2.9149999618530273, 2.9149999618530273, 2.9149999618530273, 2.914900064468384, 2.9149999618530273, 2.9149999618530273, 2.9149999618530273, 7.021399974822998, 7.007500171661377, 6.996600151062012, 6.98829984664917, 6.957900047302246, 2.9094998836517334, 2.9094998836517334, 2.9093000888824463, 2.9093000888824463, 2.9093000888824463, 2.9093000888824463, 2.9093000888824463, 2.9093000888824463, 2.9093000888824463, 2.9093000888824463, 2.9093000888824463, 2.9093000888824463, 2.9093000888824463, 2.9093000888824463, 2.9093000888824463, 2.9093000888824463, 2.9093000888824463, 2.9093000888824463, 2.9093000888824463, 2.9093000888824463, 2.9093000888824463, 2.9093000888824463, 2.9093000888824463, 2.9093000888824463, 2.9093000888824463, 2.9093000888824463, 2.9093000888824463, 2.9093000888824463], \"logprob\": [30.0, 29.0, 28.0, 27.0, 26.0, 25.0, 24.0, 23.0, 22.0, 21.0, 20.0, 19.0, 18.0, 17.0, 16.0, 15.0, 14.0, 13.0, 12.0, 11.0, 10.0, 9.0, 8.0, 7.0, 6.0, 5.0, 4.0, 3.0, 2.0, 1.0, -3.25600004196167, -3.443000078201294, -3.8857998847961426, -3.897900104522705, -4.016900062561035, -4.702000141143799, -4.9475998878479, -5.006499767303467, -5.286300182342529, -5.339799880981445, -5.396699905395508, -5.408299922943115, -5.505099773406982, -5.61929988861084, -5.63539981842041, -5.686299800872803, -5.7342000007629395, -5.807600021362305, -5.850200176239014, -5.948200225830078, -5.955399990081787, -5.9959001541137695, -6.045100212097168, -6.109000205993652, -6.11460018157959, -6.121500015258789, -6.165900230407715, -6.238699913024902, -6.25439977645874, -6.285299777984619, -4.020299911499023, -4.42080020904541, -4.60830020904541, -4.236999988555908, -5.325799942016602, -4.6992998123168945, -5.445099830627441, -5.543099880218506, -4.764100074768066, -5.097099781036377, -4.298600196838379, -4.566299915313721, -4.901199817657471, -4.103799819946289, -4.671800136566162, -4.966100215911865, -4.609300136566162, -4.108399868011475, -4.214000225067139, -5.126800060272217, -3.615000009536743, -4.659999847412109, -4.797699928283691, -4.446800231933594, -4.700099945068359, -4.8765997886657715, -4.848400115966797, -4.436299800872803, -4.8958001136779785, -4.766300201416016, -3.9142000675201416, -4.24399995803833, -4.31220006942749, -4.399099826812744, -4.500699996948242, -4.602399826049805, -4.946300029754639, -4.966800212860107, -4.996399879455566, -5.202000141143799, -5.2881999015808105, -5.31820011138916, -5.340099811553955, -5.367499828338623, -5.369200229644775, -5.401700019836426, -5.421500205993652, -5.4756999015808105, -5.538400173187256, -5.5457000732421875, -5.586400032043457, -5.6757001876831055, -5.735000133514404, -5.737599849700928, -5.757199764251709, -5.785900115966797, -5.811500072479248, -5.824999809265137, -5.8958001136779785, -5.928599834442139, -4.203199863433838, -4.759099960327148, -4.744999885559082, -4.48960018157959, -5.505899906158447, -3.8752999305725098, -3.242500066757202, -4.971199989318848, -5.023399829864502, -4.128699779510498, -4.667099952697754, -4.798399925231934, -4.517899990081787, -3.6535000801086426, -4.515200138092041, -4.801799774169922, -4.484899997711182, -4.849599838256836, -4.466899871826172, -5.170400142669678, -5.059000015258789, -4.492499828338623, -4.9421000480651855, -4.979100227355957, -4.02269983291626, -4.317699909210205, -4.493599891662598, -4.846099853515625, -4.8684000968933105, -4.908100128173828, -4.923699855804443, -4.9928998947143555, -5.240099906921387, -5.264100074768066, -5.280099868774414, -5.354899883270264, -5.361400127410889, -5.448999881744385, -5.518499851226807, -5.576200008392334, -5.60830020904541, -5.645699977874756, -5.657400131225586, -5.682799816131592, -5.707099914550781, -5.73199987411499, -5.7677998542785645, -5.7835001945495605, -5.805600166320801, -5.843999862670898, -5.866300106048584, -5.935100078582764, -5.949399948120117, -5.96150016784668, -4.644700050354004, -5.199699878692627, -3.7139999866485596, -5.461900234222412, -4.267399787902832, -5.553800106048584, -4.317200183868408, -5.203800201416016, -4.103300094604492, -4.6707000732421875, -4.6819000244140625, -4.851099967956543, -4.883800029754639, -5.362500190734863, -4.936600208282471, -4.549200057983398, -4.411600112915039, -4.117400169372559, -4.730599880218506, -4.6194000244140625, -4.009799957275391, -3.9865000247955322, -4.5833001136779785, -4.882699966430664, -4.734000205993652, -5.07390022277832, -4.959700107574463, -4.695300102233887, -4.900700092315674, -4.296500205993652, -4.7230000495910645, -4.730400085449219, -4.8414998054504395, -5.026199817657471, -5.04640007019043, -5.204999923706055, -5.264699935913086, -5.344600200653076, -5.358799934387207, -5.430600166320801, -5.433300018310547, -5.472700119018555, -5.525400161743164, -5.570300102233887, -5.583199977874756, -5.615099906921387, -5.628200054168701, -5.634399890899658, -5.6427998542785645, -5.646599769592285, -5.6585001945495605, -5.695199966430664, -5.713500022888184, -5.7154998779296875, -5.7733001708984375, -5.7795000076293945, -5.787300109863281, -5.792900085449219, -5.794000148773193, -4.686500072479248, -4.8495001792907715, -4.0100998878479, -3.297100067138672, -5.273600101470947, -4.643499851226807, -4.157400131225586, -5.20389986038208, -4.214399814605713, -5.373899936676025, -4.801599979400635, -5.251699924468994, -5.059899806976318, -4.892499923706055, -5.353499889373779, -4.985799789428711, -5.2621002197265625, -4.979100227355957, -4.506400108337402, -4.791900157928467, -4.8094000816345215, -4.481299877166748, -4.919600009918213, -4.654099941253662, -5.1280999183654785, -4.7916998863220215, -4.991199970245361, -5.04580020904541, -5.054699897766113, -4.715700149536133, -4.638500213623047, -5.023200035095215, -5.013599872589111, -4.999599933624268, -4.961299896240234, -3.373800039291382, -3.7355000972747803, -4.070300102233887, -4.1666998863220215, -4.375500202178955, -4.436399936676025, -4.539700031280518, -4.714900016784668, -4.799499988555908, -4.815100193023682, -4.864200115203857, -4.878900051116943, -4.9492998123168945, -4.960700035095215, -5.028500080108643, -5.033599853515625, -5.043499946594238, -5.066400051116943, -5.155200004577637, -5.223100185394287, -5.295599937438965, -5.349899768829346, -5.386899948120117, -5.507800102233887, -5.51609992980957, -5.529200077056885, -5.655300140380859, -5.693600177764893, -5.701300144195557, -5.761899948120117, -4.571899890899658, -4.317999839782715, -4.5005998611450195, -4.396900177001953, -3.2971999645233154, -3.1191999912261963, -4.233099937438965, -4.875199794769287, -4.495800018310547, -4.341899871826172, -3.678100109100342, -3.985300064086914, -4.065899848937988, -3.022599935531616, -3.7943999767303467, -4.728799819946289, -4.516200065612793, -4.430799961090088, -4.3566999435424805, -4.536300182342529, -4.858699798583984, -4.854599952697754, -3.0216000080108643, -3.250999927520752, -3.615299940109253, -3.64490008354187, -4.081600189208984, -4.349800109863281, -4.3684000968933105, -4.409200191497803, -4.410600185394287, -4.446000099182129, -4.525100231170654, -4.548399925231934, -4.569300174713135, -4.687900066375732, -4.689199924468994, -4.765900135040283, -4.810800075531006, -4.841000080108643, -4.856299877166748, -4.931300163269043, -4.944499969482422, -4.9456000328063965, -4.968200206756592, -4.990499973297119, -5.007199764251709, -5.016900062561035, -5.024899959564209, -5.06279993057251, -5.063899993896484, -5.075500011444092, -4.826200008392334, -4.197199821472168, -3.626499891281128, -4.973899841308594, -4.788599967956543, -4.254000186920166, -4.132800102233887, -4.748499870300293, -4.8942999839782715, -4.8225998878479, -4.860199928283691, -4.833899974822998, -3.4755001068115234, -3.6312999725341797, -3.8714001178741455, -3.9911000728607178, -4.0802998542785645, -4.166399955749512, -4.227399826049805, -4.344399929046631, -4.457099914550781, -4.457300186157227, -4.5366997718811035, -4.539000034332275, -4.5817999839782715, -4.5858001708984375, -4.7067999839782715, -4.820199966430664, -4.825799942016602, -4.888599872589111, -4.893899917602539, -4.5493998527526855, -4.927000045776367, -4.9903998374938965, -5.023600101470947, -5.037899971008301, -5.044099807739258, -5.148799896240234, -5.2291998863220215, -5.269499778747559, -5.296999931335449, -5.31689977645874, -4.859399795532227, -4.022799968719482, -4.992700099945068, -3.9935998916625977, -3.712100028991699, -4.125100135803223, -4.103000164031982, -4.261199951171875, -4.442800045013428, -3.7535998821258545, -4.343100070953369, -4.192200183868408, -4.38640022277832, -2.629300117492676, -2.8368000984191895, -3.384000062942505, -3.4965999126434326, -3.544600009918213, -3.7869999408721924, -3.825000047683716, -3.85260009765625, -3.9672000408172607, -4.188000202178955, -4.292600154876709, -4.44290018081665, -4.8592000007629395, -4.861100196838379, -4.935400009155273, -3.6040000915527344, -5.0553998947143555, -5.08459997177124, -5.159999847412109, -5.186399936676025, -5.26200008392334, -5.2789998054504395, -5.4380998611450195, -5.555600166320801, -5.693299770355225, -5.696800231933594, -5.828700065612793, -5.9710001945495605, -5.978799819946289, -5.984899997711182, -3.9245998859405518, -3.5100998878479004, -3.8915998935699463, -2.878200054168701, -4.576200008392334, -3.8131000995635986, -4.633999824523926, -4.684599876403809, -4.873899936676025, -4.890200138092041, -4.6168999671936035, -4.4984002113342285, -4.693999767303467, -4.85099983215332, -2.702399969100952, -3.2404000759124756, -3.26990008354187, -3.462399959564209, -3.615299940109253, -3.6559998989105225, -3.6767001152038574, -3.703700065612793, -3.849299907684326, -3.92330002784729, -3.932499885559082, -4.134799957275391, -4.149499893188477, -4.191100120544434, -4.272299766540527, -4.388000011444092, -4.407899856567383, -4.6290998458862305, -4.639999866485596, -4.67549991607666, -4.751100063323975, -4.751299858093262, -4.785600185394287, -4.857100009918213, -5.0, -5.178299903869629, -5.230599880218506, -5.235799789428711, -5.250500202178955, -5.43779993057251, -4.156000137329102, -3.509000062942505, -2.862600088119507, -4.004300117492676, -4.313000202178955, -4.029099941253662, -4.049799919128418, -4.4994001388549805, -4.335299968719482, -4.581699848175049, -2.250499963760376, -2.341200113296509, -2.615799903869629, -2.6898000240325928, -3.5243000984191895, -3.6120998859405518, -3.667099952697754, -3.9681999683380127, -4.087699890136719, -4.415999889373779, -4.437300205230713, -4.639100074768066, -4.682400226593018, -4.693399906158447, -4.786300182342529, -4.910799980163574, -5.003600120544434, -5.147900104522705, -5.197299957275391, -5.329899787902832, -5.355500221252441, -5.475500106811523, -5.588200092315674, -5.644899845123291, -5.710899829864502, -5.753799915313721, -5.776800155639648, -5.794400215148926, -5.826399803161621, -5.876399993896484, -4.695300102233887, -2.8268001079559326, -4.562900066375732, -4.366099834442139, -3.699700117111206, -4.645699977874756, -4.097099781036377, -4.943699836730957, -4.246500015258789, -4.955699920654297, -4.703700065612793, -4.941699981689453, -2.6106998920440674, -2.9030001163482666, -2.944000005722046, -3.101099967956543, -3.1386001110076904, -3.4156999588012695, -3.61299991607666, -3.757200002670288, -3.955699920654297, -4.060699939727783, -4.163000106811523, -4.2368998527526855, -4.264999866485596, -4.282700061798096, -4.43310022354126, -4.442200183868408, -4.656499862670898, -4.687099933624268, -4.728700160980225, -4.811299800872803, -4.84089994430542, -4.8821001052856445, -5.0046000480651855, -5.123000144958496, -5.2459001541137695, -5.2581000328063965, -5.259099960327148, -5.30620002746582, -5.312399864196777, -5.366199970245361, -4.142899990081787, -3.4035000801086426, -3.1586999893188477, -4.235400199890137, -4.154799938201904, -4.782899856567383, -4.1392998695373535, -3.83870005607605, -4.172999858856201, -4.5960001945495605, -4.740600109100342, -1.6729999780654907, -1.8395999670028687, -2.9342000484466553, -3.282599925994873, -3.301800012588501, -3.562299966812134, -3.9934000968933105, -4.138800144195557, -4.2677998542785645, -4.445499897003174, -4.461599826812744, -4.526800155639648, -4.552499771118164, -4.652100086212158, -4.761000156402588, -4.766200065612793, -4.820000171661377, -5.0980000495910645, -5.199900150299072, -5.218599796295166, -5.218599796295166, -5.218599796295166, -5.246200084686279, -5.275100231170654, -5.454699993133545, -5.65500020980835, -5.728499889373779, -5.80649995803833, -5.838699817657471, -5.9475998878479, -4.716899871826172, -4.734899997711182, -5.3333001136779785, -5.38640022277832, -5.2221999168396, -3.363100051879883, -3.5392000675201416, -3.705899953842163, -3.7945001125335693, -3.8234000205993652, -3.928800106048584, -3.9821999073028564, -4.050600051879883, -4.051499843597412, -4.109600067138672, -4.227099895477295, -4.2571001052856445, -4.262199878692627, -4.303599834442139, -4.329800128936768, -4.396100044250488, -4.424699783325195, -4.430300235748291, -4.464399814605713, -4.468100070953369, -4.478000164031982, -4.499800205230713, -4.523200035095215, -4.532199859619141, -4.5578999519348145, -4.601399898529053, -4.655300140380859, -4.662600040435791, -4.670499801635742, -4.6743998527526855, -2.529599905014038, -3.7165000438690186, -4.570499897003174, -4.598999977111816, -2.910799980163574, -2.9721999168395996, -3.00600004196167, -3.513400077819824, -3.63100004196167, -3.6491000652313232, -3.7109999656677246, -3.8006999492645264, -3.801300048828125, -3.8541998863220215, -3.8821001052856445, -4.000100135803223, -4.003799915313721, -4.021200180053711, -4.130199909210205, -4.202499866485596, -4.216400146484375, -4.348199844360352, -4.503499984741211, -4.508399963378906, -4.5883002281188965, -4.65500020980835, -4.747099876403809, -4.759699821472168, -4.764500141143799, -4.819300174713135, -4.850399971008301, -4.892300128936768, -5.0269999504089355, -5.0366997718811035, -3.463200092315674, -3.64520001411438, -3.508699893951416, -3.953399896621704, -4.054100036621094, -2.835700035095215, -3.2197999954223633, -3.2806999683380127, -3.3078999519348145, -3.50219988822937, -3.513400077819824, -3.565000057220459, -3.58270001411438, -3.61680006980896, -3.6196000576019287, -3.803100109100342, -3.9047999382019043, -4.051400184631348, -4.1132001876831055, -4.182499885559082, -4.3572001457214355, -4.364799976348877, -4.479700088500977, -4.498899936676025, -4.503699779510498, -4.553199768066406, -4.587600231170654, -4.607399940490723, -4.617700099945068, -4.643499851226807, -4.697999954223633, -4.718100070953369, -4.750199794769287, -4.7855000495910645, -4.791500091552734, -2.862600088119507, -4.103799819946289, -1.965499997138977, -3.2634999752044678, -3.32069993019104, -3.594399929046631, -3.9014999866485596, -4.130000114440918, -4.500100135803223, -4.584400177001953, -4.786900043487549, -4.856800079345703, -4.882699966430664, -4.922299861907959, -1.5540000200271606, -5.082399845123291, -5.108799934387207, -5.168399810791016, -5.208899974822998, -5.292699813842773, -5.3043999671936035, -5.32919979095459, -5.43179988861084, -5.5254998207092285, -5.553199768066406, -5.56279993057251, -5.59630012512207, -5.663099765777588, -5.714200019836426, -5.819499969482422, -5.90910005569458, -6.008299827575684, -4.253699779510498, -2.6905999183654785, -4.035399913787842, -4.15339994430542, -4.063799858093262, -4.0345001220703125, -4.592899799346924, -4.625699996948242, -4.985000133514404, -4.7459001541137695, -1.7965999841690063, -2.223099946975708, -2.330199956893921, -2.5636000633239746, -3.5826001167297363, -3.6122000217437744, -3.814199924468994, -4.138599872589111, -4.219399929046631, -3.4335999488830566, -11.468600273132324, -11.468799591064453, -11.468700408935547, -11.468799591064453, -11.468799591064453, -11.468799591064453, -11.468799591064453, -11.468899726867676, -11.468799591064453, -11.468799591064453, -11.468899726867676, -11.468899726867676, -11.468899726867676, -11.468899726867676, -11.468899726867676, -11.468899726867676, -11.468899726867676, -11.468899726867676, -11.468899726867676, -11.468899726867676, -11.468899726867676, -11.468899726867676, -1.7732000350952148, -2.521399974822998, -3.0202999114990234, -3.6152000427246094, -3.66510009765625, -3.801100015640259, -5.357699871063232, -5.556099891662598, -5.906400203704834, -4.797299861907959, -11.081199645996094, -11.081299781799316, -11.081299781799316, -11.081399917602539, -11.081399917602539, -11.081399917602539, -11.081399917602539, -11.081399917602539, -11.081399917602539, -11.081399917602539, -11.081399917602539, -11.081399917602539, -11.081399917602539, -11.081399917602539, -11.081399917602539, -11.081399917602539, -11.081399917602539, -11.081500053405762, -11.081500053405762, -11.081500053405762, -11.081500053405762, -11.081399917602539, -11.081399917602539, -11.081399917602539, -3.033400058746338, -3.1628000736236572, -3.2267000675201416, -3.4691998958587646, -3.514699935913086, -3.8664000034332275, -4.467700004577637, -5.1020002365112305, -5.478799819946289, -6.073999881744385, -10.850899696350098, -10.850899696350098, -10.850899696350098, -10.850899696350098, -10.850899696350098, -10.850899696350098, -10.850899696350098, -10.850899696350098, -10.850899696350098, -10.850899696350098, -10.850899696350098, -10.850899696350098, -10.850899696350098, -10.850899696350098, -10.850899696350098, -10.850899696350098, -10.850899696350098, -10.850899696350098, -10.850899696350098, -10.850899696350098, -10.850899696350098, -10.850899696350098, -10.850899696350098, -10.850899696350098, -10.850899696350098, -10.850899696350098, -10.850899696350098, -10.850899696350098, -10.850899696350098, -10.850899696350098, -10.850899696350098, -10.850899696350098, -10.850899696350098, -10.850899696350098, -2.1470999717712402, -3.027400016784668, -3.408099889755249, -3.6263999938964844, -4.1774001121521, -10.856499671936035, -10.856499671936035, -10.856599807739258, -10.856599807739258, -10.856599807739258, -10.85669994354248, -10.85669994354248, -10.85669994354248, -10.85669994354248, -10.85669994354248, -10.85669994354248, -10.85669994354248, -10.85669994354248, -10.85669994354248, -10.85669994354248, -10.85669994354248, -10.85669994354248, -10.85669994354248, -10.85669994354248, -10.85669994354248, -10.85669994354248, -10.85669994354248, -10.85669994354248, -10.85669994354248, -10.85669994354248, -10.85669994354248, -10.85669994354248, -10.85669994354248]}, \"token.table\": {\"Topic\": [11, 16, 7, 11, 7, 2, 1, 1, 3, 9, 3, 12, 7, 11, 2, 3, 6, 9, 10, 1, 2, 3, 5, 16, 2, 4, 11, 18, 4, 5, 8, 12, 7, 19, 2, 6, 12, 1, 11, 8, 11, 6, 2, 7, 2, 8, 2, 3, 5, 8, 10, 12, 1, 4, 1, 14, 2, 3, 3, 1, 2, 1, 3, 6, 7, 11, 11, 1, 2, 11, 11, 4, 3, 1, 8, 9, 14, 14, 14, 5, 14, 15, 1, 2, 5, 11, 7, 9, 15, 9, 4, 8, 4, 9, 4, 5, 16, 16, 5, 5, 13, 17, 16, 5, 9, 1, 1, 4, 6, 13, 1, 2, 4, 5, 6, 7, 14, 1, 2, 3, 4, 8, 15, 5, 10, 1, 4, 8, 10, 2, 9, 15, 11, 2, 6, 2, 4, 7, 6, 9, 12, 10, 8, 14, 8, 5, 15, 1, 2, 4, 14, 8, 3, 14, 9, 5, 2, 8, 9, 16, 16, 3, 10, 7, 8, 5, 6, 7, 9, 5, 7, 13, 6, 3, 5, 8, 11, 8, 1, 6, 2, 6, 9, 10, 2, 7, 8, 7, 11, 6, 6, 10, 15, 1, 3, 8, 1, 4, 13, 14, 7, 19, 3, 3, 9, 13, 4, 7, 16, 2, 6, 6, 10, 10, 2, 14, 9, 15, 14, 3, 3, 3, 3, 9, 6, 15, 14, 7, 9, 3, 8, 15, 9, 8, 3, 8, 10, 14, 16, 11, 9, 16, 8, 9, 16, 16, 4, 7, 9, 2, 11, 13, 2, 4, 7, 7, 18, 12, 1, 5, 10, 18, 1, 3, 4, 7, 12, 13, 16, 1, 4, 8, 5, 13, 10, 8, 11, 7, 12, 1, 2, 1, 2, 2, 3, 8, 1, 2, 9, 11, 2, 7, 8, 12, 16, 1, 1, 2, 11, 11, 9, 17, 9, 8, 12, 4, 5, 9, 14, 5, 5, 15, 1, 6, 8, 1, 3, 10, 6, 1, 2, 3, 4, 7, 10, 18, 1, 4, 13, 9, 17, 1, 2, 3, 5, 8, 5, 4, 2, 6, 5, 11, 4, 13, 8, 14, 10, 14, 16, 3, 12, 1, 4, 5, 20, 1, 2, 3, 1, 4, 7, 11, 19, 1, 10, 6, 5, 1, 2, 12, 4, 7, 1, 2, 3, 1, 15, 6, 5, 9, 1, 2, 4, 14, 15, 1, 13, 1, 4, 5, 14, 1, 3, 4, 9, 16, 2, 4, 10, 10, 19, 4, 1, 4, 6, 1, 1, 5, 13, 14, 3, 4, 1, 2, 3, 5, 7, 2, 10, 8, 9, 1, 1, 8, 17, 3, 5, 8, 8, 4, 7, 9, 7, 11, 2, 7, 13, 14, 8, 5, 8, 3, 12, 10, 18, 5, 15, 4, 8, 9, 4, 12, 19, 9, 3, 11, 19, 11, 2, 2, 13, 6, 6, 1, 18, 1, 3, 4, 10, 13, 2, 6, 1, 2, 3, 4, 10, 17, 2, 4, 1, 2, 3, 4, 7, 1, 6, 9, 1, 2, 4, 1, 5, 15, 3, 6, 1, 2, 16, 1, 4, 5, 1, 17, 1, 1, 11, 3, 4, 13, 13, 5, 9, 5, 1, 2, 3, 2, 5, 1, 2, 3, 8, 12, 3, 1, 2, 12, 1, 2, 3, 1, 9, 1, 2, 11, 3, 7, 15, 12, 9, 1, 5, 6, 7, 13, 4, 16, 16, 6, 13, 4, 7, 4, 10, 14, 16, 13, 5, 8, 9, 5, 16, 1, 5, 3, 4, 13, 2, 10, 12, 9, 20, 4, 5, 1, 4, 18, 1, 4, 6, 12, 1, 2, 4, 5, 8, 16, 2, 1, 3, 4, 5, 18, 16, 5, 1, 3, 4, 5, 1, 1, 3, 4, 10, 14, 1, 5, 5, 1, 2, 3, 16, 13, 1, 2, 3, 10, 8, 3, 12, 6, 10, 1, 4, 5, 3, 3, 11, 13, 1, 5, 8, 1, 3, 6, 11, 20, 4, 9, 5, 3, 8, 1, 3, 8, 16, 1, 2, 3, 12, 15, 5, 9, 17, 1, 2, 6, 1, 3, 3, 5, 9, 10, 16, 7, 2, 5, 7, 15, 1, 4, 10, 8, 14, 4, 10, 13, 13, 10, 17, 6, 3, 6, 4, 6, 16, 9, 6, 14, 2, 4, 13, 2, 15, 13, 1, 15, 5, 16, 7, 6, 11, 8, 7, 18, 6, 1, 13, 1, 4, 5, 8, 3, 2, 12, 11, 7, 16, 3, 8, 8, 7, 3, 7, 6, 2, 2, 3, 7, 12, 10, 3, 6, 2, 4, 11, 7, 4, 1, 2, 19, 10, 9, 3, 6, 9, 15, 1, 1, 2, 2, 3, 5, 10, 16, 14, 7, 2, 3, 19, 13, 6, 11, 19, 3, 11, 2, 12, 1, 15, 4, 4, 7, 3, 2, 3, 4, 5, 7, 8, 9, 3, 7, 11, 14, 1, 3, 7, 8, 10, 2, 4, 8, 11, 3, 11, 4, 4, 1, 2, 4, 6, 16, 4, 12, 16, 13, 13, 16, 4, 15, 2, 7, 4, 5, 8, 10, 12, 13, 1, 5, 16, 13, 13, 1, 2, 11, 8, 12, 3, 11, 7, 10, 5, 4, 11, 9, 17, 1, 4, 7, 10, 6, 6, 8, 6, 6, 1, 2, 1, 2, 1, 4, 5, 1, 3, 5, 2, 16, 12, 5, 3, 1, 2, 4, 5, 8, 14, 20, 11, 14, 1, 6, 14, 13, 2, 4, 10, 1, 5, 8, 6, 12, 1, 3, 4, 2, 5, 6, 13, 4, 6, 1, 4, 7, 11, 4, 14, 15, 9, 12, 1, 2, 3, 8, 8, 13, 13, 14, 15, 9, 16, 2, 3, 4, 15, 10, 1, 4, 10, 10, 10, 2, 3, 6, 9, 2, 4, 6, 1, 4, 8, 4, 3, 2, 7, 15, 14, 19, 8, 2, 3, 9, 1, 8, 13, 12, 5, 3, 5, 7, 9, 12, 7, 16, 1, 2, 4, 6, 1, 6, 4, 7, 11, 10, 3, 3, 1, 2, 12, 6, 3, 4, 6, 8, 11, 5, 2, 1, 2, 1, 2, 2, 7, 10, 16, 1, 2, 3, 4, 20, 3, 1, 3, 10, 17, 9, 15, 14, 15, 15, 6, 15, 1, 2, 11, 5, 11, 1, 4, 5, 8, 16, 12, 12, 4, 2, 4, 5, 8, 11, 3, 4, 9, 15, 15, 13, 10, 9, 1, 2, 3, 4, 5, 6, 7, 8, 9, 14, 3, 5, 8, 1, 4, 7, 9, 16, 1, 7, 8, 8, 14, 13, 16, 8, 9, 5, 2, 8, 12, 7, 13, 7, 1, 5, 6, 15, 4, 13, 1, 2, 4, 6, 1, 3, 4, 5, 10, 8, 10, 18, 6, 2, 1, 1, 2, 8, 1, 3, 4, 5, 1, 2, 3, 1, 12, 1, 1, 3, 4, 10], \"Freq\": [0.9939741492271423, 0.9715040326118469, 0.7493337392807007, 0.2497779130935669, 0.994776725769043, 0.9977627396583557, 0.998961865901947, 0.03721452131867409, 0.8980451226234436, 0.0646357461810112, 0.9977419972419739, 0.993156373500824, 0.9937358498573303, 0.9923209547996521, 0.21927963197231293, 0.5614086985588074, 0.14794771373271942, 0.058122314512729645, 0.013209616765379906, 0.4446473717689514, 0.07627913355827332, 0.3764246702194214, 0.10233402997255325, 0.9832038283348083, 0.12675394117832184, 0.8714333772659302, 0.9830983281135559, 0.9961608052253723, 0.9976852536201477, 0.004093533847481012, 0.9947287440299988, 0.9900557994842529, 0.9982275366783142, 0.9332009553909302, 0.998492956161499, 0.9962338805198669, 0.9973960518836975, 0.9998337030410767, 0.9890370965003967, 0.9906011819839478, 0.9956438541412354, 0.9986103773117065, 0.9819994568824768, 0.017078250646591187, 0.5054237842559814, 0.4927881956100464, 0.997108519077301, 0.6704908013343811, 0.22726373374462128, 0.10170365869998932, 0.9974634647369385, 0.9996131658554077, 0.5604744553565979, 0.43903830647468567, 0.9993403553962708, 0.9902498722076416, 0.210086390376091, 0.7892101407051086, 0.9959974884986877, 0.9999006390571594, 0.9983368515968323, 0.5661166310310364, 0.10926344245672226, 0.11806318163871765, 0.03739889711141586, 0.1686616837978363, 0.9986441731452942, 0.18574455380439758, 0.7132214903831482, 0.10085960477590561, 0.9909249544143677, 0.9980888366699219, 0.9971864819526672, 0.3597346842288971, 0.07194694131612778, 0.5672338604927063, 0.9981639981269836, 0.9972944259643555, 0.9964891672134399, 0.9965471625328064, 0.9979294538497925, 0.9955234527587891, 0.228796124458313, 0.013157605193555355, 0.29312220215797424, 0.46417105197906494, 0.9977362751960754, 0.9895482659339905, 0.9887491464614868, 0.9858137965202332, 0.9956657886505127, 0.9939061403274536, 0.9965143799781799, 0.9983499050140381, 0.22995449602603912, 0.6389719247817993, 0.130056232213974, 0.9830949902534485, 0.9982904195785522, 0.9966018795967102, 0.9961751103401184, 0.9871074557304382, 0.99916011095047, 0.8021532893180847, 0.19727028906345367, 0.9984334707260132, 0.00376898143440485, 0.33920833468437195, 0.5917301177978516, 0.06407268345355988, 0.3473377823829651, 0.29251474142074585, 0.04693753644824028, 0.03004002384841442, 0.038301028311252594, 0.2452016919851303, 0.9964286684989929, 0.6041901111602783, 0.002207087352871895, 0.15835851430892944, 0.04027934372425079, 0.19477544724941254, 0.9912581443786621, 0.9986593127250671, 0.9811388850212097, 0.3188988268375397, 0.5237268209457397, 0.15653520822525024, 0.9866977334022522, 0.9992206692695618, 0.9995086193084717, 0.9969276189804077, 0.9977728724479675, 0.9981620907783508, 0.9978894591331482, 0.9992699027061462, 0.9957696199417114, 0.9985999464988708, 0.9983443021774292, 0.9938658475875854, 0.9968366622924805, 0.9898974895477295, 0.9990237951278687, 0.9943632483482361, 0.9988691806793213, 0.9993787407875061, 0.9950085878372192, 0.8577994108200073, 0.10385717451572418, 0.03824029862880707, 0.9977171421051025, 0.9963417053222656, 0.9985499978065491, 0.9928263425827026, 0.9883777499198914, 0.9996058344841003, 0.9988210797309875, 0.9937567114830017, 0.9952582716941833, 0.9866605401039124, 0.9816770553588867, 0.9538054466247559, 0.04533934220671654, 0.6053547263145447, 0.3932422399520874, 0.23522338271141052, 0.10018773376941681, 0.663199245929718, 0.9960993528366089, 0.9978243112564087, 0.996667206287384, 0.9970000386238098, 0.9970553517341614, 0.0471760518848896, 0.7755743265151978, 0.17643843591213226, 0.9865915775299072, 0.9883798360824585, 0.9984775185585022, 0.0011948274914175272, 0.05101318657398224, 0.9483814835548401, 0.9968575239181519, 0.9937324523925781, 0.6750884652137756, 0.0525284968316555, 0.2713972330093384, 0.9934372305870056, 0.9882616996765137, 0.9976583123207092, 0.9961761832237244, 0.9912962913513184, 0.9908854961395264, 0.06235053762793541, 0.8946357369422913, 0.04251173138618469, 0.013427803292870522, 0.9847055673599243, 0.9939267039299011, 0.9909495115280151, 0.9952825903892517, 0.9565178155899048, 0.9965846538543701, 0.751623272895813, 0.24789685010910034, 0.9953427314758301, 0.2964273691177368, 0.061755698174238205, 0.6391714811325073, 0.6094441413879395, 0.3902580738067627, 0.4208022952079773, 0.5750964283943176, 0.9736570119857788, 0.9977695941925049, 0.9948621988296509, 0.10551945120096207, 0.8905841708183289, 0.9965882897377014, 0.9991405010223389, 0.9987354874610901, 0.9971738457679749, 0.9972681403160095, 0.9974411725997925, 0.1786154806613922, 0.8200584650039673, 0.9886612892150879, 0.9965814352035522, 0.9959578514099121, 0.9976992011070251, 0.9953665733337402, 0.9956692457199097, 0.9981581568717957, 0.9987784624099731, 0.981730580329895, 0.016166221350431442, 0.9976089596748352, 0.995971143245697, 0.9960340261459351, 0.9942124485969543, 0.013532774522900581, 0.9859024286270142, 0.19826771318912506, 0.13552476465702057, 0.6650752425193787, 0.9806597232818604, 0.9978973269462585, 0.9986141324043274, 0.9947716593742371, 0.3296127915382385, 0.009207060560584068, 0.659225583076477, 0.02390214242041111, 0.9740122556686401, 0.9984078407287598, 0.9967590570449829, 0.9002609848976135, 0.9944108724594116, 0.9992201924324036, 0.9992231726646423, 0.9850868582725525, 0.9963830709457397, 0.4716329276561737, 0.09045015275478363, 0.4194856584072113, 0.015228851698338985, 0.0023074017371982336, 0.9969053864479065, 0.9970617294311523, 0.9961167573928833, 0.003051828360185027, 0.9992274641990662, 0.5656477212905884, 0.4315250515937805, 0.9853371381759644, 0.9102213978767395, 0.08740123361349106, 0.4110160768032074, 0.5852511525154114, 0.7884101271629333, 0.2113889902830124, 0.9989106059074402, 0.9995458126068115, 0.6944966316223145, 0.2111331671476364, 0.09280578792095184, 0.004192359279841185, 0.9504677653312683, 0.002395633840933442, 0.042522501200437546, 0.9989157319068909, 0.9936797022819519, 0.9910259246826172, 0.9659520387649536, 0.9967081546783447, 0.9989526867866516, 0.014906652271747589, 0.9847707152366638, 0.9988243579864502, 0.9971708655357361, 0.9972744584083557, 0.9972801804542542, 0.9850339293479919, 0.9978450536727905, 0.976208508014679, 0.3961046636104584, 0.16233797371387482, 0.4402605891227722, 0.9960980415344238, 0.9953170418739319, 0.9977824091911316, 0.9939932823181152, 0.0258103646337986, 0.9704697132110596, 0.9997472763061523, 0.027227217331528664, 0.5468133091926575, 0.42429080605506897, 0.9983181357383728, 0.4293094277381897, 0.10568459331989288, 0.14949168264865875, 0.23409411311149597, 0.010951771400868893, 0.07036513090133667, 0.9720801115036011, 0.026350079104304314, 0.9727570414543152, 0.9948239326477051, 0.9917702674865723, 0.9876272678375244, 0.03363053500652313, 0.43055933713912964, 0.3084273934364319, 0.08230631053447723, 0.1446997970342636, 0.9973919987678528, 0.9973301887512207, 0.533558189868927, 0.4650683104991913, 0.9982433915138245, 0.9865480661392212, 0.9971523284912109, 0.9944241046905518, 0.9979377388954163, 0.9959753155708313, 0.9994575381278992, 0.9951848387718201, 0.9937692880630493, 0.9980549216270447, 0.9953120946884155, 0.8631948828697205, 0.07937584817409515, 0.05725700780749321, 0.974003791809082, 0.8120506405830383, 0.1594301164150238, 0.028558354824781418, 0.9249576330184937, 0.07496389001607895, 0.9979289770126343, 0.9987351298332214, 0.5509863495826721, 0.9920198917388916, 0.007901917211711407, 0.9995542168617249, 0.998870849609375, 0.9952693581581116, 0.0038704918697476387, 0.9989274740219116, 0.9458654522895813, 0.0510767363011837, 0.34855079650878906, 0.1756204217672348, 0.47575071454048157, 0.9984620213508606, 0.9931102991104126, 0.9994319677352905, 0.8878400325775146, 0.11004214733839035, 0.9994550943374634, 0.0170673169195652, 0.9820271134376526, 0.9963895082473755, 0.9940866827964783, 0.9993630647659302, 0.9916247129440308, 0.41451653838157654, 0.010443944483995438, 0.5747770667076111, 0.9893211722373962, 0.0169273242354393, 0.5774635672569275, 0.3830411732196808, 0.021763702854514122, 0.9886981844902039, 0.9991070628166199, 0.6404677033424377, 0.3570333421230316, 0.9887144565582275, 0.7099437713623047, 0.9959442615509033, 0.007173606194555759, 0.9417920112609863, 0.05021524429321289, 0.9988195896148682, 0.5697554349899292, 0.4300389885902405, 0.22065338492393494, 0.7769485116004944, 0.03838782384991646, 0.95969557762146, 0.3023504912853241, 0.4801477789878845, 0.18587899208068848, 0.029474418610334396, 0.0019015753641724586, 0.9980368614196777, 0.9943721890449524, 0.995334804058075, 0.9951367974281311, 0.9995558857917786, 0.9983984231948853, 0.9992906451225281, 0.9876231551170349, 0.825359582901001, 0.1287560909986496, 0.04539477825164795, 0.9885969161987305, 0.040090810507535934, 0.9385966062545776, 0.020045405253767967, 0.5426517128944397, 0.4551272690296173, 0.0021819749381393194, 0.9971625208854675, 0.217285618185997, 0.7794690728187561, 0.9826570153236389, 0.9539613127708435, 0.0446239709854126, 0.9993039965629578, 0.9965522289276123, 0.485685795545578, 0.485685795545578, 0.9976328611373901, 0.9959771633148193, 0.5290797352790833, 0.4695413410663605, 0.9896430373191833, 0.9966603517532349, 0.988893985748291, 0.8923295140266418, 0.9978903532028198, 0.9992548227310181, 0.9946361780166626, 0.9621593952178955, 0.994101345539093, 0.9981842041015625, 0.9977642893791199, 0.9938095211982727, 0.9994828104972839, 0.9992629885673523, 0.9999203681945801, 0.9766832590103149, 0.7246796488761902, 0.07749597728252411, 0.05950583890080452, 0.13792438805103302, 0.9982892274856567, 0.7538334131240845, 0.24560561776161194, 0.00844654906541109, 0.32012420892715454, 0.04138809069991112, 0.5481810569763184, 0.08108687400817871, 0.9886041879653931, 0.12675157189369202, 0.8724218010902405, 0.11289322376251221, 0.058757293969392776, 0.03829127177596092, 0.4192233979701996, 0.370369017124176, 0.9970716238021851, 0.0019666107837110758, 0.9975679516792297, 0.03452010080218315, 0.9649936556816101, 0.9989860653877258, 0.7124239206314087, 0.28747043013572693, 0.9939379692077637, 0.9990935325622559, 0.9960932731628418, 0.2931444048881531, 0.7067091464996338, 0.9902962446212769, 0.8281570672988892, 0.006512716878205538, 0.16516250371932983, 0.8857963681221008, 0.11295389384031296, 0.99952232837677, 0.8587708473205566, 0.14034025371074677, 0.36591407656669617, 0.6145593523979187, 0.018516134470701218, 0.9915624260902405, 0.9159194231033325, 0.08334600925445557, 0.999393880367279, 0.8650463223457336, 0.09871096163988113, 0.03610145300626755, 0.9991535544395447, 0.9960494637489319, 0.4126405715942383, 0.4190920889377594, 0.16799812018871307, 0.996004581451416, 0.9918312430381775, 0.997992217540741, 0.16850189864635468, 0.8311381936073303, 0.9997079968452454, 0.4808237850666046, 0.21446718275547028, 0.30456236004829407, 0.9988593459129333, 0.9882063269615173, 0.4187777638435364, 0.5808265209197998, 0.996404767036438, 0.002963222563266754, 0.9926795959472656, 0.9934216141700745, 0.9900557994842529, 0.9985906481742859, 0.0884990468621254, 0.7241374850273132, 0.186565563082695, 0.9987423419952393, 0.9922240972518921, 0.7406850457191467, 0.2554086446762085, 0.9770684242248535, 0.8620688915252686, 0.13701757788658142, 0.9962831139564514, 0.9955736994743347, 0.9296025037765503, 0.06786920875310898, 0.16480082273483276, 0.833992063999176, 0.9970715045928955, 0.3132636547088623, 0.1473269760608673, 0.5381311774253845, 0.8606922626495361, 0.1388213336467743, 0.9993348121643066, 0.9981662034988403, 0.18042783439159393, 0.8181900978088379, 0.9964500665664673, 0.9978389143943787, 0.9953339099884033, 0.9921868443489075, 0.9938039183616638, 0.9937344193458557, 0.9965785145759583, 0.9964389204978943, 0.40721595287323, 0.5918723344802856, 0.8716548085212708, 0.9847941398620605, 0.01495048776268959, 0.9985703825950623, 0.9948880076408386, 0.04973945394158363, 0.6852498054504395, 0.10702864825725555, 0.08171481639146805, 0.07594148814678192, 0.9803777933120728, 0.9978358745574951, 0.426218718290329, 0.008127558045089245, 0.0033466415479779243, 0.5619967579841614, 0.852638304233551, 0.9637389779090881, 0.9976008534431458, 0.08513287454843521, 0.5829237103462219, 0.03695003315806389, 0.29471346735954285, 0.9991180896759033, 0.5094279646873474, 0.26089635491371155, 0.1279752254486084, 0.10077276080846786, 0.9948099255561829, 0.4943639934062958, 0.5048083066940308, 0.9985828399658203, 0.032019853591918945, 0.09137372672557831, 0.8762506246566772, 0.9966098666191101, 0.9901905655860901, 0.05124814808368683, 0.0016015046276152134, 0.9458486437797546, 0.000960902776569128, 0.997386634349823, 0.9963752031326294, 0.9906513094902039, 0.9955359101295471, 0.9961282014846802, 0.29718858003616333, 0.5177467465400696, 0.18469902873039246, 0.9984701871871948, 0.9972543716430664, 0.9892668724060059, 0.9957537651062012, 0.9889496564865112, 0.010684304870665073, 0.9967843890190125, 0.7232565879821777, 0.09923937171697617, 0.07224626839160919, 0.10400286316871643, 0.9696269035339355, 0.9970178604125977, 0.9964005351066589, 0.9989691972732544, 0.9424729347229004, 0.05660497769713402, 0.01877620257437229, 0.9784488081932068, 0.9859723448753357, 0.9916241765022278, 0.14805294573307037, 0.38126909732818604, 0.4651220738887787, 0.005240811966359615, 0.9986720085144043, 0.73370760679245, 0.26544153690338135, 0.9936161637306213, 0.21202604472637177, 0.7375515699386597, 0.05033615604043007, 0.015277601778507233, 0.9815859198570251, 0.18136556446552277, 0.0810810774564743, 0.5440967082977295, 0.08748221397399902, 0.10455191880464554, 0.9965366125106812, 0.9993919134140015, 0.9980654120445251, 0.9991452693939209, 0.986437976360321, 0.460158109664917, 0.17698387801647186, 0.3602142632007599, 0.22110271453857422, 0.7768473625183105, 0.9964978694915771, 0.9930736422538757, 0.9974912405014038, 0.9966599345207214, 0.9994281530380249, 0.9989339113235474, 0.9983412027359009, 0.013543965294957161, 0.9841947555541992, 0.9959380030632019, 0.9972065091133118, 0.9687875509262085, 0.997848391532898, 0.15984567999839783, 0.836115837097168, 0.05920173600316048, 0.8934080004692078, 0.04664378985762596, 0.9957565665245056, 0.9889074563980103, 0.9979056119918823, 0.9991815686225891, 0.990979015827179, 0.9234224557876587, 0.07595894485712051, 0.995283842086792, 0.3079870939254761, 0.6874711513519287, 0.9966803789138794, 0.9943400025367737, 0.9922609329223633, 0.9985581040382385, 0.9995881915092468, 0.9936367869377136, 0.0009953068802133203, 0.8788559436798096, 0.02090144343674183, 0.09903303533792496, 0.9955862164497375, 0.61244136095047, 0.3834415376186371, 0.994885265827179, 0.9984440207481384, 0.9875670075416565, 0.28280600905418396, 0.7168223261833191, 0.9912202954292297, 0.9963567852973938, 0.006749147083610296, 0.9887500405311584, 0.998807430267334, 0.9985107779502869, 0.12520110607147217, 0.7451240420341492, 0.12976309657096863, 0.9796767830848694, 0.9887946844100952, 0.10227377712726593, 0.8969100117683411, 0.9978979825973511, 0.9967188239097595, 0.9869789481163025, 0.9991220831871033, 0.9964408278465271, 0.9993276596069336, 0.9967865943908691, 0.9116017818450928, 0.9801298379898071, 0.9965879917144775, 0.8637539148330688, 0.0884627103805542, 0.04671626538038254, 0.9983419179916382, 0.9996281862258911, 0.1183396428823471, 0.8812398910522461, 0.09589611738920212, 0.88411545753479, 0.01871143840253353, 0.979476809501648, 0.9761867523193359, 0.996111273765564, 0.998018205165863, 0.9969520568847656, 0.9990962147712708, 0.9687319397926331, 0.9888325929641724, 0.07013216614723206, 0.9234068393707275, 0.9865320920944214, 0.9988335371017456, 0.9987970590591431, 0.9980300664901733, 0.9839386343955994, 0.9991628527641296, 0.9945616722106934, 0.9986402988433838, 0.9977891445159912, 0.999478280544281, 0.9982160925865173, 0.10860803723335266, 0.651648223400116, 0.02626468986272812, 0.04756038263440132, 0.12635445594787598, 0.0078084212727844715, 0.03052382916212082, 0.9988834857940674, 0.460944265127182, 0.5352901220321655, 0.987374484539032, 0.05270294472575188, 0.03597185015678406, 0.8825651407241821, 0.027606304734945297, 0.9858729243278503, 0.25421562790870667, 0.5833679437637329, 0.16220474243164062, 0.9969598054885864, 0.9964385032653809, 0.9875102043151855, 0.9976644515991211, 0.9969022274017334, 0.39615488052368164, 0.21266070008277893, 0.1438503861427307, 0.2469242811203003, 0.9744297862052917, 0.574185848236084, 0.17012915015220642, 0.25306710600852966, 0.9939294457435608, 0.9902758598327637, 0.9733880758285522, 0.996627688407898, 0.9976015090942383, 0.8743451833724976, 0.12490645051002502, 0.20491358637809753, 0.5944556593894958, 0.04744643345475197, 0.1526537388563156, 0.38426652550697327, 0.610305666923523, 0.9997134208679199, 0.9983755350112915, 0.9670990705490112, 0.997320830821991, 0.991891622543335, 0.5740101933479309, 0.42588603496551514, 0.9899435639381409, 0.9878141283988953, 0.9870011806488037, 0.436847984790802, 0.5624700784683228, 0.9972139596939087, 0.998747706413269, 0.9989255666732788, 0.9967690110206604, 0.9970845580101013, 0.9971594214439392, 0.9968412518501282, 0.16925448179244995, 0.6205997467041016, 0.10891839116811752, 0.10029895603656769, 0.9971602559089661, 0.030186163261532784, 0.9687014222145081, 0.9972496628761292, 0.998065173625946, 0.9707608222961426, 0.029126251116394997, 0.9642508029937744, 0.035491857677698135, 0.08405306190252304, 0.023348072543740273, 0.8918964266777039, 0.02521752379834652, 0.43694210052490234, 0.537327229976654, 0.9994969964027405, 0.9899375438690186, 0.99220871925354, 0.9982532858848572, 0.9991061091423035, 0.18495160341262817, 0.05785918980836868, 0.17011591792106628, 0.1963256299495697, 0.3901786506175995, 0.9890989065170288, 0.9105839133262634, 0.9970746636390686, 0.9950400590896606, 0.27009087800979614, 0.7279932498931885, 0.9954258799552917, 0.9939735531806946, 0.16610370576381683, 0.8316800594329834, 0.984879732131958, 0.2437942624092102, 0.3482775390148163, 0.40733328461647034, 0.1774318814277649, 0.8137392997741699, 0.06574435532093048, 0.3240257501602173, 0.609700620174408, 0.9982543587684631, 0.9995233416557312, 0.9986380934715271, 0.9913010597229004, 0.8995441794395447, 0.09969470649957657, 0.1581876128911972, 0.7531105875968933, 0.05846063792705536, 0.028657175600528717, 0.9960086941719055, 0.9973070025444031, 0.9983673095703125, 0.9954742789268494, 0.9900557994842529, 0.9990488290786743, 0.008249918930232525, 0.8882412910461426, 0.10284899175167084, 0.07557246088981628, 0.9241882562637329, 0.06620462238788605, 0.9314305186271667, 0.9944918155670166, 0.7377422451972961, 0.260151207447052, 0.023426758125424385, 0.08785034716129303, 0.887288510799408, 0.9922598004341125, 0.9946994185447693, 0.6664409637451172, 0.3141932785511017, 0.019027231261134148, 0.9819375872612, 0.997003972530365, 0.6345015168190002, 0.04306571185588837, 0.317045658826828, 0.004921795800328255, 0.9988763332366943, 0.9982179999351501, 0.9972851872444153, 0.9475993514060974, 0.05207010731101036, 0.993049144744873, 0.997768223285675, 0.9981029033660889, 0.01652030646800995, 0.9823228120803833, 0.9959964752197266, 0.9814330339431763, 0.9691720008850098, 0.9972426295280457, 0.07386563718318939, 0.8895308375358582, 0.03614701330661774, 0.9878168702125549, 0.01200875360518694, 0.9964689016342163, 0.992192268371582, 0.9977719783782959, 0.0008953772485256195, 0.7704721093177795, 0.22653044760227203, 0.002014598809182644, 0.9742252230644226, 0.9957767724990845, 0.9826609492301941, 0.8317623138427734, 0.04825625196099281, 0.11559566110372543, 0.004167585633695126, 0.9990882873535156, 0.9982044696807861, 0.9986323714256287, 0.9962073564529419, 0.9891818761825562, 0.9994834065437317, 0.9967518448829651, 0.9992074370384216, 0.9716717600822449, 0.028191637247800827, 0.9682591557502747, 0.997289776802063, 0.9946984052658081, 0.004272759426385164, 0.11591431498527527, 0.7109411358833313, 0.17193956673145294, 0.9996737241744995, 0.9980912208557129, 0.9699434041976929, 0.029758354648947716, 0.9953143000602722, 0.004521737806499004, 0.47797027230262756, 0.13527460396289825, 0.3847810924053192, 0.9917182922363281, 0.7794275879859924, 0.004627103451639414, 0.0684492215514183, 0.14742909371852875, 0.9649307727813721, 0.997852087020874, 0.27020683884620667, 0.47185373306274414, 0.25609156489372253, 0.9948936700820923, 0.8250559568405151, 0.1738412231206894, 0.9905178546905518, 0.9979097247123718, 0.9960511922836304, 0.9970309734344482, 0.9889305830001831, 0.2695252299308777, 0.6890633702278137, 0.04045990854501724, 0.9962068796157837, 0.9990504384040833, 0.9506310820579529, 0.0004873781290370971, 0.0077980500645935535, 0.04093976318836212, 0.9839473962783813, 0.9821249842643738, 0.9982928037643433, 0.9990496039390564, 0.03578057885169983, 0.13378824293613434, 0.8073965311050415, 0.022557321935892105, 0.9930675625801086, 0.13651813566684723, 0.4356534779071808, 0.4256153702735901, 0.9945600628852844, 0.9986327886581421, 0.9913782477378845, 0.9703789353370667, 0.9962680339813232, 0.061005014926195145, 0.024745695292949677, 0.026979682967066765, 0.01804373599588871, 0.7066270709037781, 0.02972920425236225, 0.09245266765356064, 0.024745695292949677, 0.015466059558093548, 0.9927499294281006, 0.022823642939329147, 0.823933482170105, 0.1517772227525711, 0.24648445844650269, 0.7154369354248047, 0.036656662821769714, 0.9924771189689636, 0.9869364500045776, 0.0011986414901912212, 0.8366517424583435, 0.16061796247959137, 0.9925875663757324, 0.9907851219177246, 0.34571176767349243, 0.6490914821624756, 0.9603660702705383, 0.03866642341017723, 0.9977688193321228, 0.8949683308601379, 0.1040024384856224, 0.9989860653877258, 0.6397601366043091, 0.3575130105018616, 0.9956328868865967, 0.9283745288848877, 0.07153379172086716, 0.9981998205184937, 0.9894815683364868, 0.9958421587944031, 0.9950922727584839, 0.8723950982093811, 0.12705521285533905, 0.0002536032407078892, 0.997617781162262, 0.9959144592285156, 0.003833204507827759, 0.9512758851051331, 0.04781109467148781, 0.9990994930267334, 0.9992502927780151, 0.9973028898239136, 0.9900299310684204, 0.9959807991981506, 0.9986557960510254, 0.9980087280273438, 0.016866303980350494, 0.9734266996383667, 0.00803157314658165, 0.4875359535217285, 0.09808547049760818, 0.14879633486270905, 0.2653423249721527, 0.21525174379348755, 0.7843235731124878, 0.9977255463600159, 0.9999204874038696, 0.9873502254486084, 0.9999026656150818, 0.5275787711143494, 0.2403414398431778, 0.0010855530854314566, 0.2310056835412979], \"Term\": [\"absolute\", \"acceleration\", \"accept\", \"accept\", \"acquire\", \"act\", \"actually\", \"add\", \"add\", \"add\", \"addition\", \"aged\", \"agent\", \"algorithm\", \"allow\", \"allow\", \"allow\", \"allow\", \"allow\", \"also\", \"also\", \"also\", \"also\", \"amazing\", \"amount\", \"amount\", \"angel\", \"animal\", \"apple\", \"application\", \"application\", \"appressian\", \"approach\", \"approximately\", \"argument\", \"arm\", \"armenian\", \"article\", \"assert\", \"assign\", \"atheism\", \"attack\", \"attempt\", \"attempt\", \"author\", \"author\", \"authority\", \"available\", \"available\", \"available\", \"average\", \"ax\", \"back\", \"back\", \"bad\", \"bank\", \"base\", \"base\", \"baseball\", \"be\", \"bear\", \"become\", \"become\", \"become\", \"become\", \"become\", \"belief\", \"believe\", \"believe\", \"believe\", \"biblical\", \"bike\", \"bill\", \"bit\", \"bit\", \"bit\", \"black\", \"blank\", \"blind\", \"board\", \"body\", \"bomb\", \"book\", \"book\", \"book\", \"book\", \"boy\", \"brand\", \"brave\", \"brief\", \"btw\", \"bug\", \"building\", \"bus\", \"buy\", \"buy\", \"buy\", \"buying\", \"ca\", \"cable\", \"canadian\", \"captain\", \"car\", \"card\", \"card\", \"care\", \"carry\", \"carry\", \"carry\", \"carry\", \"case\", \"case\", \"case\", \"case\", \"case\", \"case\", \"cd\", \"change\", \"change\", \"change\", \"change\", \"change\", \"channel\", \"character\", \"characterize\", \"check\", \"check\", \"check\", \"chemical\", \"child\", \"chip\", \"choice\", \"christian\", \"church\", \"citizen\", \"claim\", \"clean\", \"clearly\", \"clipper\", \"clock\", \"closed\", \"closely\", \"code\", \"cold\", \"color\", \"com\", \"combine\", \"come\", \"come\", \"come\", \"compare\", \"compile\", \"complete\", \"compound\", \"compute\", \"computer\", \"conclusion\", \"configuration\", \"connector\", \"conservative\", \"construction\", \"contact\", \"contact\", \"contain\", \"contain\", \"control\", \"control\", \"control\", \"controller\", \"convert\", \"convince\", \"cool\", \"cop\", \"copy\", \"copy\", \"copy\", \"core\", \"correction\", \"could\", \"could\", \"country\", \"country\", \"cpu\", \"crack\", \"create\", \"create\", \"create\", \"creation\", \"creator\", \"crime\", \"criminal\", \"cry\", \"curious\", \"current\", \"current\", \"current\", \"cut\", \"cut\", \"cycle\", \"danger\", \"dangerous\", \"dare\", \"data\", \"datum\", \"datum\", \"daughter\", \"dealer\", \"dealer\", \"dealer\", \"death\", \"death\", \"defense\", \"defense\", \"defensive\", \"deny\", \"depth\", \"description\", \"description\", \"deserve\", \"design\", \"detail\", \"develop\", \"development\", \"device\", \"die\", \"die\", \"diet\", \"direct\", \"direction\", \"directly\", \"directory\", \"disease\", \"disk\", \"display\", \"distribution\", \"distribution\", \"division\", \"doctor\", \"door\", \"draft\", \"drive\", \"drive\", \"driver\", \"driver\", \"driver\", \"driving\", \"drop\", \"drug\", \"dual\", \"earth\", \"earth\", \"earth\", \"eat\", \"eat\", \"effect\", \"effective\", \"efficiently\", \"electrical\", \"else\", \"email\", \"emphasis\", \"encryption\", \"end\", \"end\", \"end\", \"end\", \"end\", \"energy\", \"engine\", \"enough\", \"enough\", \"entry\", \"environment\", \"environment\", \"era\", \"error\", \"error\", \"escape\", \"escape\", \"even\", \"even\", \"ever\", \"evidence\", \"example\", \"example\", \"example\", \"exist\", \"exist\", \"exist\", \"exist\", \"explain\", \"express\", \"extension\", \"exterminate\", \"external\", \"face\", \"fact\", \"fact\", \"faith\", \"false\", \"family\", \"fan\", \"fancy\", \"faq\", \"fascist\", \"fast\", \"fast\", \"fast\", \"father\", \"fax\", \"feature\", \"fee\", \"fight\", \"fight\", \"file\", \"final\", \"final\", \"final\", \"firearm\", \"first\", \"first\", \"first\", \"first\", \"first\", \"first\", \"fish\", \"fit\", \"fit\", \"flight\", \"floppy\", \"flyer\", \"follow\", \"follow\", \"follow\", \"follow\", \"follow\", \"font\", \"foot\", \"force\", \"force\", \"format\", \"found\", \"front\", \"fuel\", \"function\", \"gain\", \"game\", \"gateway\", \"gear\", \"generate\", \"genocide\", \"get\", \"get\", \"get\", \"giant\", \"give\", \"give\", \"give\", \"go\", \"go\", \"goal\", \"god\", \"golden\", \"good\", \"good\", \"government\", \"graphic\", \"great\", \"great\", \"greek\", \"ground\", \"ground\", \"group\", \"group\", \"group\", \"guess\", \"guilty\", \"gun\", \"hardware\", \"hardware\", \"have\", \"head\", \"head\", \"headache\", \"health\", \"hear\", \"heat\", \"help\", \"help\", \"help\", \"hence\", \"high\", \"high\", \"high\", \"high\", \"highway\", \"history\", \"hit\", \"hit\", \"hitter\", \"hm\", \"hole\", \"home\", \"home\", \"home\", \"hope\", \"host\", \"host\", \"hot\", \"hot\", \"hour\", \"hour\", \"however\", \"however\", \"however\", \"however\", \"however\", \"human\", \"ice\", \"icon\", \"ide\", \"idea\", \"ill\", \"image\", \"implementation\", \"include\", \"include\", \"include\", \"incorrect\", \"increase\", \"increase\", \"increase\", \"indeed\", \"indeed\", \"indicate\", \"indicate\", \"industry\", \"industry\", \"infinite\", \"info\", \"info\", \"information\", \"inhabitant\", \"inherent\", \"inherent\", \"input\", \"insert\", \"instal\", \"instal\", \"installation\", \"insurance\", \"intelligence\", \"intense\", \"interface\", \"internet\", \"interpretation\", \"investigate\", \"islamic\", \"israeli\", \"jewish\", \"join\", \"key\", \"kill\", \"know\", \"label\", \"last\", \"last\", \"last\", \"last\", \"launch\", \"law\", \"law\", \"lead\", \"lead\", \"lead\", \"lead\", \"lead\", \"leafs\", \"leave\", \"leave\", \"less\", \"less\", \"less\", \"less\", \"less\", \"let\", \"let\", \"library\", \"life\", \"life\", \"light\", \"line\", \"line\", \"link\", \"list\", \"listen\", \"live\", \"live\", \"locate\", \"look\", \"look\", \"look\", \"lose\", \"lose\", \"lot\", \"love\", \"love\", \"low\", \"low\", \"low\", \"lunar\", \"machine\", \"machine\", \"mail\", \"make\", \"make\", \"make\", \"man\", \"manual\", \"many\", \"many\", \"many\", \"map\", \"massacre\", \"material\", \"matter\", \"matter\", \"max\", \"may\", \"may\", \"may\", \"maybe\", \"mb\", \"mean\", \"mean\", \"meaning\", \"measure\", \"measure\", \"medical\", \"melkonian\", \"memory\", \"message\", \"message\", \"message\", \"method\", \"middle\", \"mile\", \"mile\", \"mileage\", \"military\", \"military\", \"mine\", \"minor\", \"minute\", \"minute\", \"mirror\", \"mirror\", \"mission\", \"mode\", \"mode\", \"mode\", \"model\", \"model\", \"money\", \"monitor\", \"month\", \"month\", \"moon\", \"moral\", \"morality\", \"moslem\", \"motherboard\", \"motif\", \"mount\", \"mouse\", \"move\", \"move\", \"ms_window\", \"much\", \"much\", \"murder\", \"muslim\", \"must\", \"must\", \"must\", \"must\", \"must\", \"narrow\", \"nature\", \"need\", \"need\", \"need\", \"need\", \"negligent\", \"neighborhood\", \"network\", \"new\", \"new\", \"new\", \"new\", \"news\", \"next\", \"next\", \"next\", \"next\", \"night\", \"nntp_poste\", \"nntp_poste\", \"normal\", \"note\", \"note\", \"note\", \"notice\", \"nuclear\", \"number\", \"number\", \"number\", \"number\", \"object\", \"obtain\", \"occupation\", \"occupy\", \"offense\", \"old\", \"old\", \"old\", \"operate\", \"operation\", \"opposite\", \"orbit\", \"organization\", \"organization\", \"originator\", \"other\", \"other\", \"other\", \"other\", \"own\", \"owner\", \"pack\", \"package\", \"page\", \"page\", \"paper\", \"paper\", \"parameter\", \"park\", \"part\", \"part\", \"part\", \"part\", \"patient\", \"pc\", \"pc\", \"penguin\", \"people\", \"people\", \"people\", \"perform\", \"perform\", \"performance\", \"performance\", \"performance\", \"performance\", \"performance\", \"period\", \"person\", \"phone\", \"physical\", \"physician\", \"pick\", \"pick\", \"pick\", \"picture\", \"picture\", \"piece\", \"pitch\", \"plane\", \"planet\", \"play\", \"player\", \"police\", \"policy\", \"policy\", \"poor\", \"population\", \"porsche\", \"port\", \"possibly\", \"possibly\", \"power\", \"power\", \"power\", \"practice\", \"preach\", \"press\", \"pretty\", \"previously\", \"price\", \"price\", \"primarily\", \"principle\", \"principle\", \"printer\", \"prior\", \"privacy\", \"private\", \"probably\", \"probe\", \"problem\", \"problem\", \"problem\", \"problem\", \"procedure\", \"proceed\", \"proceed\", \"processor\", \"produce\", \"production\", \"program\", \"program\", \"programmer\", \"proposal\", \"propose\", \"propose\", \"protect\", \"prove\", \"provide\", \"provide\", \"provide\", \"province\", \"pub\", \"public\", \"public\", \"publish\", \"pull\", \"punish\", \"purpose\", \"push\", \"quite\", \"quote\", \"radius\", \"rain\", \"ram\", \"rate\", \"rate\", \"rate\", \"reality\", \"really\", \"reason\", \"reason\", \"receive\", \"receive\", \"receive\", \"receiver\", \"recieve\", \"recommend\", \"reduce\", \"refer\", \"reference\", \"reflect\", \"regularly\", \"reject\", \"reject\", \"relation\", \"release\", \"religion\", \"religious\", \"remainder\", \"remember\", \"remote\", \"remove\", \"replace\", \"report\", \"request\", \"require\", \"require\", \"require\", \"require\", \"require\", \"require\", \"require\", \"research\", \"respect\", \"respect\", \"restore\", \"result\", \"result\", \"result\", \"result\", \"retrieve\", \"return\", \"return\", \"return\", \"revelation\", \"review\", \"reward\", \"ride\", \"rider\", \"right\", \"right\", \"right\", \"right\", \"rip\", \"road\", \"road\", \"road\", \"rock\", \"rocket\", \"rom\", \"room\", \"route\", \"rule\", \"rule\", \"run\", \"run\", \"run\", \"run\", \"russian\", \"russian\", \"s\", \"sale\", \"salesman\", \"satellite\", \"saturn\", \"say\", \"say\", \"scale\", \"scare\", \"scene\", \"science\", \"science\", \"scientific\", \"score\", \"screen\", \"screw\", \"scripture\", \"scsi\", \"season\", \"second\", \"second\", \"second\", \"second\", \"secret\", \"section\", \"section\", \"secure\", \"security\", \"see\", \"see\", \"seem\", \"seem\", \"sell\", \"sell\", \"sell\", \"send\", \"send\", \"send\", \"sense\", \"sensor\", \"serdar_argic\", \"server\", \"service\", \"set\", \"set\", \"set\", \"set\", \"set\", \"severe\", \"shaft\", \"shall\", \"shape\", \"shoot\", \"shoot\", \"should\", \"shuttle\", \"side\", \"side\", \"significance\", \"size\", \"size\", \"size\", \"slaughter\", \"slaughter\", \"small\", \"small\", \"small\", \"society\", \"software\", \"soldier\", \"solid\", \"solution\", \"solution\", \"sometimes\", \"sometimes\", \"sometimes\", \"sometimes\", \"somewhere\", \"son\", \"sorry\", \"soul\", \"soul_sahak\", \"sound\", \"source\", \"source\", \"source\", \"space\", \"space\", \"special\", \"special\", \"specify\", \"speed\", \"speed\", \"spend\", \"spend\", \"spend\", \"spread\", \"star\", \"start\", \"start\", \"start\", \"starter\", \"stat\", \"state\", \"state\", \"state\", \"state\", \"statement\", \"steal\", \"step\", \"still\", \"still\", \"stream\", \"street\", \"student\", \"study\", \"study\", \"stupid\", \"subsequent\", \"suck\", \"sun\", \"support\", \"support\", \"support\", \"sure\", \"sure\", \"surface\", \"survivor\", \"switch\", \"system\", \"system\", \"system\", \"system\", \"systematically\", \"table\", \"tail\", \"take\", \"take\", \"take\", \"take\", \"talk\", \"tap\", \"tape\", \"tax\", \"teaching\", \"team\", \"technical\", \"technology\", \"tell\", \"tell\", \"territorial\", \"terrorism\", \"test\", \"test\", \"text\", \"text\", \"text\", \"thank\", \"therefore\", \"thing\", \"thing\", \"think\", \"think\", \"third\", \"third\", \"third\", \"ticket\", \"time\", \"time\", \"time\", \"time\", \"tip\", \"tool\", \"total\", \"total\", \"total\", \"trade\", \"transfer\", \"transfer\", \"translate\", \"treat\", \"treatment\", \"trial\", \"truck\", \"true\", \"true\", \"true\", \"trust\", \"truth\", \"try\", \"try\", \"try\", \"try\", \"turbo\", \"turkey\", \"turkish\", \"turn\", \"type\", \"type\", \"type\", \"type\", \"understanding\", \"unit\", \"unit\", \"unit\", \"universe\", \"university\", \"unknown\", \"unnecessary\", \"upgrade\", \"use\", \"use\", \"use\", \"use\", \"use\", \"use\", \"use\", \"use\", \"use\", \"usenet\", \"user\", \"user\", \"user\", \"usually\", \"usually\", \"usually\", \"utility\", \"uunet\", \"value\", \"value\", \"value\", \"variable\", \"variation\", \"vehicle\", \"vehicle\", \"version\", \"version\", \"video\", \"view\", \"view\", \"village\", \"visit\", \"visit\", \"vote\", \"want\", \"want\", \"war\", \"warn\", \"warranty\", \"water\", \"way\", \"way\", \"way\", \"weapon\", \"well\", \"well\", \"will\", \"will\", \"win\", \"window\", \"wing\", \"wiretap\", \"withdraw\", \"woman\", \"wonder\", \"word\", \"word\", \"word\", \"work\", \"work\", \"work\", \"work\", \"world\", \"world\", \"worry\", \"would\", \"wound\", \"write\", \"year\", \"year\", \"year\", \"year\"]}, \"R\": 30, \"lambda.step\": 0.01, \"plot.opts\": {\"xlab\": \"PC1\", \"ylab\": \"PC2\"}, \"topic.order\": [12, 8, 11, 20, 14, 13, 3, 5, 7, 18, 15, 4, 9, 17, 10, 19, 2, 1, 16, 6]};\n",
       "\n",
       "function LDAvis_load_lib(url, callback){\n",
       "  var s = document.createElement('script');\n",
       "  s.src = url;\n",
       "  s.async = true;\n",
       "  s.onreadystatechange = s.onload = callback;\n",
       "  s.onerror = function(){console.warn(\"failed to load library \" + url);};\n",
       "  document.getElementsByTagName(\"head\")[0].appendChild(s);\n",
       "}\n",
       "\n",
       "if(typeof(LDAvis) !== \"undefined\"){\n",
       "   // already loaded: just create the visualization\n",
       "   !function(LDAvis){\n",
       "       new LDAvis(\"#\" + \"ldavis_el1478359003099921673170455\", ldavis_el1478359003099921673170455_data);\n",
       "   }(LDAvis);\n",
       "}else if(typeof define === \"function\" && define.amd){\n",
       "   // require.js is available: use it to load d3/LDAvis\n",
       "   require.config({paths: {d3: \"https://cdnjs.cloudflare.com/ajax/libs/d3/3.5.5/d3.min\"}});\n",
       "   require([\"d3\"], function(d3){\n",
       "      window.d3 = d3;\n",
       "      LDAvis_load_lib(\"https://cdn.rawgit.com/bmabey/pyLDAvis/files/ldavis.v1.0.0.js\", function(){\n",
       "        new LDAvis(\"#\" + \"ldavis_el1478359003099921673170455\", ldavis_el1478359003099921673170455_data);\n",
       "      });\n",
       "    });\n",
       "}else{\n",
       "    // require.js not available: dynamically load d3 & LDAvis\n",
       "    LDAvis_load_lib(\"https://cdnjs.cloudflare.com/ajax/libs/d3/3.5.5/d3.min.js\", function(){\n",
       "         LDAvis_load_lib(\"https://cdn.rawgit.com/bmabey/pyLDAvis/files/ldavis.v1.0.0.js\", function(){\n",
       "                 new LDAvis(\"#\" + \"ldavis_el1478359003099921673170455\", ldavis_el1478359003099921673170455_data);\n",
       "            })\n",
       "         });\n",
       "}\n",
       "</script>"
      ],
      "text/plain": [
       "PreparedData(topic_coordinates=              x         y  topics  cluster       Freq\n",
       "topic                                                \n",
       "11    -0.327337 -0.051616       1        1  36.930771\n",
       "7     -0.282325 -0.203029       2        1  12.524016\n",
       "10    -0.251515 -0.007995       3        1  10.725438\n",
       "19    -0.216397  0.020682       4        1   8.456800\n",
       "13    -0.211279  0.269317       5        1   8.240979\n",
       "12    -0.119446 -0.222153       6        1   4.817239\n",
       "2     -0.073089  0.085978       7        1   3.825294\n",
       "4     -0.068936  0.136015       8        1   3.164776\n",
       "6      0.033793  0.169922       9        1   1.687477\n",
       "17     0.015200 -0.007249      10        1   1.591330\n",
       "14     0.044995 -0.050633      11        1   1.323529\n",
       "3      0.149054 -0.029216      12        1   1.320315\n",
       "8      0.093465 -0.022836      13        1   1.304285\n",
       "16     0.123683 -0.024982      14        1   1.154424\n",
       "9      0.117095 -0.027490      15        1   1.131852\n",
       "18     0.109688  0.083335      16        1   1.037660\n",
       "1      0.193764 -0.031326      17        1   0.365025\n",
       "0      0.217467 -0.029429      18        1   0.215615\n",
       "15     0.226183 -0.028637      19        1   0.094804\n",
       "5      0.225936 -0.028658      20        1   0.088374, topic_info=     Category          Freq          Term         Total  loglift  logprob\n",
       "19    Default  15754.000000          line  15754.000000  30.0000  30.0000\n",
       "174   Default  16073.000000         would  16073.000000  29.0000  29.0000\n",
       "40    Default   4605.000000          year   4605.000000  28.0000  28.0000\n",
       "197   Default  13331.000000         write  13331.000000  27.0000  27.0000\n",
       "3685  Default   2799.000000            ax   2799.000000  26.0000  26.0000\n",
       "...       ...           ...           ...           ...      ...      ...\n",
       "3323  Topic20      0.019234      override      1.186446   2.9093 -10.8567\n",
       "6727  Topic20      0.019234    distribute      1.186473   2.9093 -10.8567\n",
       "4205  Topic20      0.019234     implement      1.186491   2.9093 -10.8567\n",
       "5605  Topic20      0.019234  announcement      1.186500   2.9093 -10.8567\n",
       "3395  Topic20      0.019234        recent      1.186498   2.9093 -10.8567\n",
       "\n",
       "[891 rows x 6 columns], token_table=      Topic      Freq          Term\n",
       "term                               \n",
       "472      11  0.993974      absolute\n",
       "41       16  0.971504  acceleration\n",
       "1211      7  0.749334        accept\n",
       "1211     11  0.249778        accept\n",
       "1288      7  0.994777       acquire\n",
       "...     ...       ...           ...\n",
       "197       1  0.999903         write\n",
       "40        1  0.527579          year\n",
       "40        3  0.240341          year\n",
       "40        4  0.001086          year\n",
       "40       10  0.231006          year\n",
       "\n",
       "[1102 rows x 3 columns], R=30, lambda_step=0.01, plot_opts={'xlab': 'PC1', 'ylab': 'PC2'}, topic_order=[12, 8, 11, 20, 14, 13, 3, 5, 7, 18, 15, 4, 9, 17, 10, 19, 2, 1, 16, 6])"
      ]
     },
     "execution_count": 35,
     "metadata": {},
     "output_type": "execute_result"
    }
   ],
   "source": [
    "vis"
   ]
  },
  {
   "cell_type": "markdown",
   "metadata": {},
   "source": [
    "## Building LDA Mallet Model"
   ]
  }
 ],
 "metadata": {
  "kernelspec": {
   "display_name": "Python 3",
   "language": "python",
   "name": "python3"
  },
  "language_info": {
   "codemirror_mode": {
    "name": "ipython",
    "version": 3
   },
   "file_extension": ".py",
   "mimetype": "text/x-python",
   "name": "python",
   "nbconvert_exporter": "python",
   "pygments_lexer": "ipython3",
   "version": "3.7.3"
  }
 },
 "nbformat": 4,
 "nbformat_minor": 2
}
